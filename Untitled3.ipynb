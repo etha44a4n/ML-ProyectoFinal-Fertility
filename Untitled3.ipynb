{
  "nbformat": 4,
  "nbformat_minor": 0,
  "metadata": {
    "colab": {
      "provenance": []
    },
    "kernelspec": {
      "name": "python3",
      "display_name": "Python 3"
    },
    "language_info": {
      "name": "python"
    }
  },
  "cells": [
    {
      "cell_type": "code",
      "source": [
        "!pip install kagglehub --upgrade"
      ],
      "metadata": {
        "colab": {
          "base_uri": "https://localhost:8080/"
        },
        "id": "y1W6lOfKs9kd",
        "outputId": "804af58a-2264-4b0c-86fa-b18ff5347101"
      },
      "execution_count": 125,
      "outputs": [
        {
          "output_type": "stream",
          "name": "stdout",
          "text": [
            "Requirement already satisfied: kagglehub in /usr/local/lib/python3.11/dist-packages (0.3.12)\n",
            "Requirement already satisfied: packaging in /usr/local/lib/python3.11/dist-packages (from kagglehub) (24.2)\n",
            "Requirement already satisfied: pyyaml in /usr/local/lib/python3.11/dist-packages (from kagglehub) (6.0.2)\n",
            "Requirement already satisfied: requests in /usr/local/lib/python3.11/dist-packages (from kagglehub) (2.32.3)\n",
            "Requirement already satisfied: tqdm in /usr/local/lib/python3.11/dist-packages (from kagglehub) (4.67.1)\n",
            "Requirement already satisfied: charset-normalizer<4,>=2 in /usr/local/lib/python3.11/dist-packages (from requests->kagglehub) (3.4.2)\n",
            "Requirement already satisfied: idna<4,>=2.5 in /usr/local/lib/python3.11/dist-packages (from requests->kagglehub) (3.10)\n",
            "Requirement already satisfied: urllib3<3,>=1.21.1 in /usr/local/lib/python3.11/dist-packages (from requests->kagglehub) (2.4.0)\n",
            "Requirement already satisfied: certifi>=2017.4.17 in /usr/local/lib/python3.11/dist-packages (from requests->kagglehub) (2025.6.15)\n"
          ]
        }
      ]
    },
    {
      "cell_type": "code",
      "source": [
        "# Para la importación del DataSet\n",
        "import kagglehub\n",
        "import os\n",
        "\n",
        "# Para convertir cada parametro que no sea numerico, a numerico\n",
        "from sklearn.preprocessing import LabelEncoder\n",
        "\n",
        "from sklearn.decomposition import PCA\n",
        "import numpy as np\n",
        "import matplotlib.pyplot as plt\n",
        "import pandas as pd\n",
        "from sklearn.svm import SVC, SVR\n",
        "from sklearn.preprocessing import StandardScaler\n",
        "from sklearn.model_selection import train_test_split, GridSearchCV\n",
        "from sklearn.metrics import mean_squared_error, mean_absolute_error, r2_score\n",
        "from sklearn.utils import shuffle\n",
        "from sklearn.model_selection import RandomizedSearchCV\n",
        "from sklearn.ensemble import RandomForestRegressor\n",
        "import seaborn as sns\n",
        "from imblearn.over_sampling import SMOTE"
      ],
      "metadata": {
        "id": "dkyeG2KwVSLD"
      },
      "execution_count": 126,
      "outputs": []
    },
    {
      "cell_type": "code",
      "source": [
        "path = kagglehub.dataset_download('muhamedyoussry/fertility-data-set')\n",
        "file_list = os.listdir(path)\n",
        "\n",
        "df = pd.read_csv(path + '/' + file_list[0])\n",
        "display(df.head())"
      ],
      "metadata": {
        "colab": {
          "base_uri": "https://localhost:8080/",
          "height": 553
        },
        "id": "vz6eOBIroBPX",
        "outputId": "fbcfc13e-b4e7-4e58-c41d-0b0b000acb8b"
      },
      "execution_count": 127,
      "outputs": [
        {
          "output_type": "display_data",
          "data": {
            "text/plain": [
              "   Season  Age Childish diseases Accident or serious trauma  \\\n",
              "0  spring   30                no                        yes   \n",
              "1  spring   35               yes                         no   \n",
              "2  spring   27               yes                         no   \n",
              "3  spring   32                no                        yes   \n",
              "4  spring   30               yes                        yes   \n",
              "\n",
              "  Surgical intervention High fevers in the last year  \\\n",
              "0                   yes       more than 3 months ago   \n",
              "1                   yes       more than 3 months ago   \n",
              "2                    no       more than 3 months ago   \n",
              "3                   yes       more than 3 months ago   \n",
              "4                    no       more than 3 months ago   \n",
              "\n",
              "  Frequency of alcohol consumption Smoking habit  \\\n",
              "0                      once a week    occasional   \n",
              "1                      once a week         daily   \n",
              "2             hardly ever or never         never   \n",
              "3             hardly ever or never         never   \n",
              "4                      once a week         never   \n",
              "\n",
              "   Number of hours spent sitting per day Diagnosis  \n",
              "0                                     16    Normal  \n",
              "1                                      6   Altered  \n",
              "2                                      9    Normal  \n",
              "3                                      7    Normal  \n",
              "4                                      9   Altered  "
            ],
            "text/html": [
              "\n",
              "  <div id=\"df-de8ebd6e-e98b-486e-8684-bda87261c98e\" class=\"colab-df-container\">\n",
              "    <div>\n",
              "<style scoped>\n",
              "    .dataframe tbody tr th:only-of-type {\n",
              "        vertical-align: middle;\n",
              "    }\n",
              "\n",
              "    .dataframe tbody tr th {\n",
              "        vertical-align: top;\n",
              "    }\n",
              "\n",
              "    .dataframe thead th {\n",
              "        text-align: right;\n",
              "    }\n",
              "</style>\n",
              "<table border=\"1\" class=\"dataframe\">\n",
              "  <thead>\n",
              "    <tr style=\"text-align: right;\">\n",
              "      <th></th>\n",
              "      <th>Season</th>\n",
              "      <th>Age</th>\n",
              "      <th>Childish diseases</th>\n",
              "      <th>Accident or serious trauma</th>\n",
              "      <th>Surgical intervention</th>\n",
              "      <th>High fevers in the last year</th>\n",
              "      <th>Frequency of alcohol consumption</th>\n",
              "      <th>Smoking habit</th>\n",
              "      <th>Number of hours spent sitting per day</th>\n",
              "      <th>Diagnosis</th>\n",
              "    </tr>\n",
              "  </thead>\n",
              "  <tbody>\n",
              "    <tr>\n",
              "      <th>0</th>\n",
              "      <td>spring</td>\n",
              "      <td>30</td>\n",
              "      <td>no</td>\n",
              "      <td>yes</td>\n",
              "      <td>yes</td>\n",
              "      <td>more than 3 months ago</td>\n",
              "      <td>once a week</td>\n",
              "      <td>occasional</td>\n",
              "      <td>16</td>\n",
              "      <td>Normal</td>\n",
              "    </tr>\n",
              "    <tr>\n",
              "      <th>1</th>\n",
              "      <td>spring</td>\n",
              "      <td>35</td>\n",
              "      <td>yes</td>\n",
              "      <td>no</td>\n",
              "      <td>yes</td>\n",
              "      <td>more than 3 months ago</td>\n",
              "      <td>once a week</td>\n",
              "      <td>daily</td>\n",
              "      <td>6</td>\n",
              "      <td>Altered</td>\n",
              "    </tr>\n",
              "    <tr>\n",
              "      <th>2</th>\n",
              "      <td>spring</td>\n",
              "      <td>27</td>\n",
              "      <td>yes</td>\n",
              "      <td>no</td>\n",
              "      <td>no</td>\n",
              "      <td>more than 3 months ago</td>\n",
              "      <td>hardly ever or never</td>\n",
              "      <td>never</td>\n",
              "      <td>9</td>\n",
              "      <td>Normal</td>\n",
              "    </tr>\n",
              "    <tr>\n",
              "      <th>3</th>\n",
              "      <td>spring</td>\n",
              "      <td>32</td>\n",
              "      <td>no</td>\n",
              "      <td>yes</td>\n",
              "      <td>yes</td>\n",
              "      <td>more than 3 months ago</td>\n",
              "      <td>hardly ever or never</td>\n",
              "      <td>never</td>\n",
              "      <td>7</td>\n",
              "      <td>Normal</td>\n",
              "    </tr>\n",
              "    <tr>\n",
              "      <th>4</th>\n",
              "      <td>spring</td>\n",
              "      <td>30</td>\n",
              "      <td>yes</td>\n",
              "      <td>yes</td>\n",
              "      <td>no</td>\n",
              "      <td>more than 3 months ago</td>\n",
              "      <td>once a week</td>\n",
              "      <td>never</td>\n",
              "      <td>9</td>\n",
              "      <td>Altered</td>\n",
              "    </tr>\n",
              "  </tbody>\n",
              "</table>\n",
              "</div>\n",
              "    <div class=\"colab-df-buttons\">\n",
              "\n",
              "  <div class=\"colab-df-container\">\n",
              "    <button class=\"colab-df-convert\" onclick=\"convertToInteractive('df-de8ebd6e-e98b-486e-8684-bda87261c98e')\"\n",
              "            title=\"Convert this dataframe to an interactive table.\"\n",
              "            style=\"display:none;\">\n",
              "\n",
              "  <svg xmlns=\"http://www.w3.org/2000/svg\" height=\"24px\" viewBox=\"0 -960 960 960\">\n",
              "    <path d=\"M120-120v-720h720v720H120Zm60-500h600v-160H180v160Zm220 220h160v-160H400v160Zm0 220h160v-160H400v160ZM180-400h160v-160H180v160Zm440 0h160v-160H620v160ZM180-180h160v-160H180v160Zm440 0h160v-160H620v160Z\"/>\n",
              "  </svg>\n",
              "    </button>\n",
              "\n",
              "  <style>\n",
              "    .colab-df-container {\n",
              "      display:flex;\n",
              "      gap: 12px;\n",
              "    }\n",
              "\n",
              "    .colab-df-convert {\n",
              "      background-color: #E8F0FE;\n",
              "      border: none;\n",
              "      border-radius: 50%;\n",
              "      cursor: pointer;\n",
              "      display: none;\n",
              "      fill: #1967D2;\n",
              "      height: 32px;\n",
              "      padding: 0 0 0 0;\n",
              "      width: 32px;\n",
              "    }\n",
              "\n",
              "    .colab-df-convert:hover {\n",
              "      background-color: #E2EBFA;\n",
              "      box-shadow: 0px 1px 2px rgba(60, 64, 67, 0.3), 0px 1px 3px 1px rgba(60, 64, 67, 0.15);\n",
              "      fill: #174EA6;\n",
              "    }\n",
              "\n",
              "    .colab-df-buttons div {\n",
              "      margin-bottom: 4px;\n",
              "    }\n",
              "\n",
              "    [theme=dark] .colab-df-convert {\n",
              "      background-color: #3B4455;\n",
              "      fill: #D2E3FC;\n",
              "    }\n",
              "\n",
              "    [theme=dark] .colab-df-convert:hover {\n",
              "      background-color: #434B5C;\n",
              "      box-shadow: 0px 1px 3px 1px rgba(0, 0, 0, 0.15);\n",
              "      filter: drop-shadow(0px 1px 2px rgba(0, 0, 0, 0.3));\n",
              "      fill: #FFFFFF;\n",
              "    }\n",
              "  </style>\n",
              "\n",
              "    <script>\n",
              "      const buttonEl =\n",
              "        document.querySelector('#df-de8ebd6e-e98b-486e-8684-bda87261c98e button.colab-df-convert');\n",
              "      buttonEl.style.display =\n",
              "        google.colab.kernel.accessAllowed ? 'block' : 'none';\n",
              "\n",
              "      async function convertToInteractive(key) {\n",
              "        const element = document.querySelector('#df-de8ebd6e-e98b-486e-8684-bda87261c98e');\n",
              "        const dataTable =\n",
              "          await google.colab.kernel.invokeFunction('convertToInteractive',\n",
              "                                                    [key], {});\n",
              "        if (!dataTable) return;\n",
              "\n",
              "        const docLinkHtml = 'Like what you see? Visit the ' +\n",
              "          '<a target=\"_blank\" href=https://colab.research.google.com/notebooks/data_table.ipynb>data table notebook</a>'\n",
              "          + ' to learn more about interactive tables.';\n",
              "        element.innerHTML = '';\n",
              "        dataTable['output_type'] = 'display_data';\n",
              "        await google.colab.output.renderOutput(dataTable, element);\n",
              "        const docLink = document.createElement('div');\n",
              "        docLink.innerHTML = docLinkHtml;\n",
              "        element.appendChild(docLink);\n",
              "      }\n",
              "    </script>\n",
              "  </div>\n",
              "\n",
              "\n",
              "    <div id=\"df-70eb6038-658f-46ec-ad48-527439029d6c\">\n",
              "      <button class=\"colab-df-quickchart\" onclick=\"quickchart('df-70eb6038-658f-46ec-ad48-527439029d6c')\"\n",
              "                title=\"Suggest charts\"\n",
              "                style=\"display:none;\">\n",
              "\n",
              "<svg xmlns=\"http://www.w3.org/2000/svg\" height=\"24px\"viewBox=\"0 0 24 24\"\n",
              "     width=\"24px\">\n",
              "    <g>\n",
              "        <path d=\"M19 3H5c-1.1 0-2 .9-2 2v14c0 1.1.9 2 2 2h14c1.1 0 2-.9 2-2V5c0-1.1-.9-2-2-2zM9 17H7v-7h2v7zm4 0h-2V7h2v10zm4 0h-2v-4h2v4z\"/>\n",
              "    </g>\n",
              "</svg>\n",
              "      </button>\n",
              "\n",
              "<style>\n",
              "  .colab-df-quickchart {\n",
              "      --bg-color: #E8F0FE;\n",
              "      --fill-color: #1967D2;\n",
              "      --hover-bg-color: #E2EBFA;\n",
              "      --hover-fill-color: #174EA6;\n",
              "      --disabled-fill-color: #AAA;\n",
              "      --disabled-bg-color: #DDD;\n",
              "  }\n",
              "\n",
              "  [theme=dark] .colab-df-quickchart {\n",
              "      --bg-color: #3B4455;\n",
              "      --fill-color: #D2E3FC;\n",
              "      --hover-bg-color: #434B5C;\n",
              "      --hover-fill-color: #FFFFFF;\n",
              "      --disabled-bg-color: #3B4455;\n",
              "      --disabled-fill-color: #666;\n",
              "  }\n",
              "\n",
              "  .colab-df-quickchart {\n",
              "    background-color: var(--bg-color);\n",
              "    border: none;\n",
              "    border-radius: 50%;\n",
              "    cursor: pointer;\n",
              "    display: none;\n",
              "    fill: var(--fill-color);\n",
              "    height: 32px;\n",
              "    padding: 0;\n",
              "    width: 32px;\n",
              "  }\n",
              "\n",
              "  .colab-df-quickchart:hover {\n",
              "    background-color: var(--hover-bg-color);\n",
              "    box-shadow: 0 1px 2px rgba(60, 64, 67, 0.3), 0 1px 3px 1px rgba(60, 64, 67, 0.15);\n",
              "    fill: var(--button-hover-fill-color);\n",
              "  }\n",
              "\n",
              "  .colab-df-quickchart-complete:disabled,\n",
              "  .colab-df-quickchart-complete:disabled:hover {\n",
              "    background-color: var(--disabled-bg-color);\n",
              "    fill: var(--disabled-fill-color);\n",
              "    box-shadow: none;\n",
              "  }\n",
              "\n",
              "  .colab-df-spinner {\n",
              "    border: 2px solid var(--fill-color);\n",
              "    border-color: transparent;\n",
              "    border-bottom-color: var(--fill-color);\n",
              "    animation:\n",
              "      spin 1s steps(1) infinite;\n",
              "  }\n",
              "\n",
              "  @keyframes spin {\n",
              "    0% {\n",
              "      border-color: transparent;\n",
              "      border-bottom-color: var(--fill-color);\n",
              "      border-left-color: var(--fill-color);\n",
              "    }\n",
              "    20% {\n",
              "      border-color: transparent;\n",
              "      border-left-color: var(--fill-color);\n",
              "      border-top-color: var(--fill-color);\n",
              "    }\n",
              "    30% {\n",
              "      border-color: transparent;\n",
              "      border-left-color: var(--fill-color);\n",
              "      border-top-color: var(--fill-color);\n",
              "      border-right-color: var(--fill-color);\n",
              "    }\n",
              "    40% {\n",
              "      border-color: transparent;\n",
              "      border-right-color: var(--fill-color);\n",
              "      border-top-color: var(--fill-color);\n",
              "    }\n",
              "    60% {\n",
              "      border-color: transparent;\n",
              "      border-right-color: var(--fill-color);\n",
              "    }\n",
              "    80% {\n",
              "      border-color: transparent;\n",
              "      border-right-color: var(--fill-color);\n",
              "      border-bottom-color: var(--fill-color);\n",
              "    }\n",
              "    90% {\n",
              "      border-color: transparent;\n",
              "      border-bottom-color: var(--fill-color);\n",
              "    }\n",
              "  }\n",
              "</style>\n",
              "\n",
              "      <script>\n",
              "        async function quickchart(key) {\n",
              "          const quickchartButtonEl =\n",
              "            document.querySelector('#' + key + ' button');\n",
              "          quickchartButtonEl.disabled = true;  // To prevent multiple clicks.\n",
              "          quickchartButtonEl.classList.add('colab-df-spinner');\n",
              "          try {\n",
              "            const charts = await google.colab.kernel.invokeFunction(\n",
              "                'suggestCharts', [key], {});\n",
              "          } catch (error) {\n",
              "            console.error('Error during call to suggestCharts:', error);\n",
              "          }\n",
              "          quickchartButtonEl.classList.remove('colab-df-spinner');\n",
              "          quickchartButtonEl.classList.add('colab-df-quickchart-complete');\n",
              "        }\n",
              "        (() => {\n",
              "          let quickchartButtonEl =\n",
              "            document.querySelector('#df-70eb6038-658f-46ec-ad48-527439029d6c button');\n",
              "          quickchartButtonEl.style.display =\n",
              "            google.colab.kernel.accessAllowed ? 'block' : 'none';\n",
              "        })();\n",
              "      </script>\n",
              "    </div>\n",
              "\n",
              "    </div>\n",
              "  </div>\n"
            ],
            "application/vnd.google.colaboratory.intrinsic+json": {
              "type": "dataframe",
              "summary": "{\n  \"name\": \"display(df\",\n  \"rows\": 5,\n  \"fields\": [\n    {\n      \"column\": \"Season\",\n      \"properties\": {\n        \"dtype\": \"category\",\n        \"num_unique_values\": 1,\n        \"samples\": [\n          \"spring\"\n        ],\n        \"semantic_type\": \"\",\n        \"description\": \"\"\n      }\n    },\n    {\n      \"column\": \"Age\",\n      \"properties\": {\n        \"dtype\": \"number\",\n        \"std\": 2,\n        \"min\": 27,\n        \"max\": 35,\n        \"num_unique_values\": 4,\n        \"samples\": [\n          35\n        ],\n        \"semantic_type\": \"\",\n        \"description\": \"\"\n      }\n    },\n    {\n      \"column\": \"Childish diseases\",\n      \"properties\": {\n        \"dtype\": \"category\",\n        \"num_unique_values\": 2,\n        \"samples\": [\n          \"yes\"\n        ],\n        \"semantic_type\": \"\",\n        \"description\": \"\"\n      }\n    },\n    {\n      \"column\": \"Accident or serious trauma\",\n      \"properties\": {\n        \"dtype\": \"category\",\n        \"num_unique_values\": 2,\n        \"samples\": [\n          \"no\"\n        ],\n        \"semantic_type\": \"\",\n        \"description\": \"\"\n      }\n    },\n    {\n      \"column\": \"Surgical intervention\",\n      \"properties\": {\n        \"dtype\": \"category\",\n        \"num_unique_values\": 2,\n        \"samples\": [\n          \"no\"\n        ],\n        \"semantic_type\": \"\",\n        \"description\": \"\"\n      }\n    },\n    {\n      \"column\": \"High fevers in the last year\",\n      \"properties\": {\n        \"dtype\": \"category\",\n        \"num_unique_values\": 1,\n        \"samples\": [\n          \"more than 3 months ago\"\n        ],\n        \"semantic_type\": \"\",\n        \"description\": \"\"\n      }\n    },\n    {\n      \"column\": \"Frequency of alcohol consumption\",\n      \"properties\": {\n        \"dtype\": \"category\",\n        \"num_unique_values\": 2,\n        \"samples\": [\n          \"hardly ever or never\"\n        ],\n        \"semantic_type\": \"\",\n        \"description\": \"\"\n      }\n    },\n    {\n      \"column\": \"Smoking habit\",\n      \"properties\": {\n        \"dtype\": \"string\",\n        \"num_unique_values\": 3,\n        \"samples\": [\n          \"occasional\"\n        ],\n        \"semantic_type\": \"\",\n        \"description\": \"\"\n      }\n    },\n    {\n      \"column\": \"Number of hours spent sitting per day\",\n      \"properties\": {\n        \"dtype\": \"number\",\n        \"std\": 3,\n        \"min\": 6,\n        \"max\": 16,\n        \"num_unique_values\": 4,\n        \"samples\": [\n          6\n        ],\n        \"semantic_type\": \"\",\n        \"description\": \"\"\n      }\n    },\n    {\n      \"column\": \"Diagnosis\",\n      \"properties\": {\n        \"dtype\": \"category\",\n        \"num_unique_values\": 2,\n        \"samples\": [\n          \"Altered\"\n        ],\n        \"semantic_type\": \"\",\n        \"description\": \"\"\n      }\n    }\n  ]\n}"
            }
          },
          "metadata": {}
        }
      ]
    },
    {
      "cell_type": "code",
      "source": [
        "lista_nombres_columnas = df.columns.tolist()\n",
        "for c in range(len(lista_nombres_columnas)):\n",
        "    nombre = lista_nombres_columnas[c]\n",
        "    print(f'{c}-. {nombre}')\n",
        "    valores = df[nombre].unique().tolist()\n",
        "    print(f'\\t{valores}')"
      ],
      "metadata": {
        "colab": {
          "base_uri": "https://localhost:8080/"
        },
        "id": "11hIvcTKa6U_",
        "outputId": "0095292f-c3b7-4052-c324-a9c7cb8940e6"
      },
      "execution_count": 128,
      "outputs": [
        {
          "output_type": "stream",
          "name": "stdout",
          "text": [
            "0-. Season\n",
            "\t['spring', 'fall', 'winter', 'summer']\n",
            "1-. Age\n",
            "\t[30, 35, 27, 32, 36, 29, 33, 28, 31, 34]\n",
            "2-. Childish diseases\n",
            "\t['no', 'yes']\n",
            "3-. Accident or serious trauma\n",
            "\t['yes', 'no']\n",
            "4-. Surgical intervention\n",
            "\t['yes', 'no']\n",
            "5-. High fevers in the last year\n",
            "\t['more than 3 months ago', 'less than 3 months ago', 'no']\n",
            "6-. Frequency of alcohol consumption\n",
            "\t['once a week', 'hardly ever or never', 'several times a week', 'several times a day', 'every day']\n",
            "7-. Smoking habit\n",
            "\t['occasional', 'daily', 'never']\n",
            "8-. Number of hours spent sitting per day\n",
            "\t[16, 6, 9, 7, 8, 5, 2, 11, 3, 342, 14, 18, 10, 1]\n",
            "9-. Diagnosis\n",
            "\t['Normal', 'Altered']\n"
          ]
        }
      ]
    },
    {
      "cell_type": "code",
      "source": [
        "# Identificamos columnas categóricas\n",
        "categorical_cols = df.select_dtypes(include='object').columns"
      ],
      "metadata": {
        "id": "4Y66zy6HiZB1"
      },
      "execution_count": 129,
      "outputs": []
    },
    {
      "cell_type": "code",
      "source": [
        "# Aplicamos Label Encoding\n",
        "label_encoders = {}\n",
        "for col in categorical_cols:\n",
        "    le = LabelEncoder()\n",
        "    df[col] = le.fit_transform(df[col])\n",
        "    label_encoders[col] = le"
      ],
      "metadata": {
        "id": "rgV-T886jCWJ"
      },
      "execution_count": 130,
      "outputs": []
    },
    {
      "cell_type": "code",
      "source": [
        "for col, le in label_encoders.items():\n",
        "    print(f\"{col}:\")\n",
        "    for i, class_ in enumerate(le.classes_):\n",
        "        print(f\"  {i} → {class_}\")"
      ],
      "metadata": {
        "colab": {
          "base_uri": "https://localhost:8080/"
        },
        "id": "27hLx4YTjGOE",
        "outputId": "37a600dc-9b63-442a-bb1e-1f736c23fd4e"
      },
      "execution_count": 131,
      "outputs": [
        {
          "output_type": "stream",
          "name": "stdout",
          "text": [
            "Season:\n",
            "  0 → fall\n",
            "  1 → spring\n",
            "  2 → summer\n",
            "  3 → winter\n",
            "Childish diseases:\n",
            "  0 → no\n",
            "  1 → yes\n",
            "Accident or serious trauma:\n",
            "  0 → no\n",
            "  1 → yes\n",
            "Surgical intervention:\n",
            "  0 → no\n",
            "  1 → yes\n",
            "High fevers in the last year:\n",
            "  0 → less than 3 months ago\n",
            "  1 → more than 3 months ago\n",
            "  2 → no\n",
            "Frequency of alcohol consumption:\n",
            "  0 → every day\n",
            "  1 → hardly ever or never\n",
            "  2 → once a week\n",
            "  3 → several times a day\n",
            "  4 → several times a week\n",
            "Smoking habit:\n",
            "  0 → daily\n",
            "  1 → never\n",
            "  2 → occasional\n",
            "Diagnosis:\n",
            "  0 → Altered\n",
            "  1 → Normal\n"
          ]
        }
      ]
    },
    {
      "cell_type": "code",
      "source": [
        "lista_nombres_columnas = df.columns.tolist()\n",
        "for c in range(len(lista_nombres_columnas)):\n",
        "    nombre = lista_nombres_columnas[c]\n",
        "    print(f'{c}-. {nombre}')\n",
        "    valores = df[nombre].unique().tolist()\n",
        "    print(f'\\t{valores}')"
      ],
      "metadata": {
        "colab": {
          "base_uri": "https://localhost:8080/"
        },
        "id": "9IWJQrEQgQeq",
        "outputId": "261dcc4a-d44c-4f54-be6e-94e393194387"
      },
      "execution_count": 132,
      "outputs": [
        {
          "output_type": "stream",
          "name": "stdout",
          "text": [
            "0-. Season\n",
            "\t[1, 0, 3, 2]\n",
            "1-. Age\n",
            "\t[30, 35, 27, 32, 36, 29, 33, 28, 31, 34]\n",
            "2-. Childish diseases\n",
            "\t[0, 1]\n",
            "3-. Accident or serious trauma\n",
            "\t[1, 0]\n",
            "4-. Surgical intervention\n",
            "\t[1, 0]\n",
            "5-. High fevers in the last year\n",
            "\t[1, 0, 2]\n",
            "6-. Frequency of alcohol consumption\n",
            "\t[2, 1, 4, 3, 0]\n",
            "7-. Smoking habit\n",
            "\t[2, 0, 1]\n",
            "8-. Number of hours spent sitting per day\n",
            "\t[16, 6, 9, 7, 8, 5, 2, 11, 3, 342, 14, 18, 10, 1]\n",
            "9-. Diagnosis\n",
            "\t[1, 0]\n"
          ]
        }
      ]
    },
    {
      "cell_type": "code",
      "metadata": {
        "id": "2c9e9ec9"
      },
      "source": [
        "df = pd.concat([df, df], ignore_index=True)\n",
        "#print(\"Original DataFrame shape:\", df.shape)\n",
        "#print(\"Duplicated DataFrame shape:\", df_duplicated.shape)\n",
        "df_shuffled = shuffle(df_duplicated, random_state=42)"
      ],
      "execution_count": 133,
      "outputs": []
    },
    {
      "cell_type": "code",
      "source": [
        "sns.countplot(x='Diagnosis', data=df)\n",
        "plt.title('Distribución de la Diagnosis')\n",
        "plt.show()\n",
        "df['Diagnosis'].value_counts()"
      ],
      "metadata": {
        "colab": {
          "base_uri": "https://localhost:8080/",
          "height": 633
        },
        "id": "8qi5A95ttBzh",
        "outputId": "362e5757-ea8b-4acf-b3e7-da830b6f573a"
      },
      "execution_count": 134,
      "outputs": [
        {
          "output_type": "display_data",
          "data": {
            "text/plain": [
              "<Figure size 640x480 with 1 Axes>"
            ],
            "image/png": "[encoded data removed]"
          },
          "metadata": {}
        },
        {
          "output_type": "execute_result",
          "data": {
            "text/plain": [
              "Diagnosis\n",
              "1    176\n",
              "0     24\n",
              "Name: count, dtype: int64"
            ],
            "text/html": [
              "<div>\n",
              "<style scoped>\n",
              "    .dataframe tbody tr th:only-of-type {\n",
              "        vertical-align: middle;\n",
              "    }\n",
              "\n",
              "    .dataframe tbody tr th {\n",
              "        vertical-align: top;\n",
              "    }\n",
              "\n",
              "    .dataframe thead th {\n",
              "        text-align: right;\n",
              "    }\n",
              "</style>\n",
              "<table border=\"1\" class=\"dataframe\">\n",
              "  <thead>\n",
              "    <tr style=\"text-align: right;\">\n",
              "      <th></th>\n",
              "      <th>count</th>\n",
              "    </tr>\n",
              "    <tr>\n",
              "      <th>Diagnosis</th>\n",
              "      <th></th>\n",
              "    </tr>\n",
              "  </thead>\n",
              "  <tbody>\n",
              "    <tr>\n",
              "      <th>1</th>\n",
              "      <td>176</td>\n",
              "    </tr>\n",
              "    <tr>\n",
              "      <th>0</th>\n",
              "      <td>24</td>\n",
              "    </tr>\n",
              "  </tbody>\n",
              "</table>\n",
              "</div><br><label><b>dtype:</b> int64</label>"
            ]
          },
          "metadata": {},
          "execution_count": 134
        }
      ]
    },
    {
      "cell_type": "code",
      "source": [
        "def resultados(y, yp):\n",
        "    mae_rf = mean_absolute_error(y, yp)\n",
        "    mse_rf = mean_squared_error(y, yp)\n",
        "    r2_rf = r2_score(y, yp)\n",
        "    # Resultados\n",
        "    print(f'MAE - Mejor Random Forest: {mae_rf}')\n",
        "    print(f'MSE - Mejor Random Forest: {mse_rf}')\n",
        "    print(f'R² - Mejor Random Forest: {r2_rf}')"
      ],
      "metadata": {
        "id": "br5CGxDeRqaO"
      },
      "execution_count": 173,
      "outputs": []
    },
    {
      "cell_type": "code",
      "source": [
        "\"\"\"\n",
        "def RandomF(X_train, y_train):\n",
        "    # Definir los hiperparámetros a probar\n",
        "    param_dist = {\n",
        "        'n_estimators': [50, 100, 200],\n",
        "        'criterion': ['squared_error', 'absolute_error', 'friedman_mse', 'poisson'],\n",
        "        'max_depth': [None, 10, 20, 30],\n",
        "        'min_samples_split': [2, 5, 10],\n",
        "        'min_samples_leaf': [1, 2, 4],\n",
        "        'max_features': ['sqrt', 'log2'],\n",
        "    }\n",
        "\n",
        "    # Crear el modelo de Random Forest\n",
        "    rf = RandomForestRegressor(random_state=42)\n",
        "\n",
        "    # Búsqueda aleatoria\n",
        "    random_search = RandomizedSearchCV(\n",
        "        estimator=rf,\n",
        "        param_distributions=param_dist,\n",
        "        n_iter=10,\n",
        "        cv=5,\n",
        "        n_jobs=-1,\n",
        "        scoring='neg_mean_absolute_error',\n",
        "        verbose=2,\n",
        "        random_state=42\n",
        "    )\n",
        "\n",
        "    rs = random_search.fit(X_train, y_train)\n",
        "\n",
        "    # Mejor modelo encontrado\n",
        "    best_rf_smote = rs_smote.best_estimator_\n",
        "\"\"\""
      ],
      "metadata": {
        "id": "zNZ6lQn_VXQh"
      },
      "execution_count": 174,
      "outputs": []
    },
    {
      "cell_type": "code",
      "source": [
        "X = df.drop(columns = 'Diagnosis')\n",
        "y = df['Diagnosis']"
      ],
      "metadata": {
        "id": "zbUGVsXptTha"
      },
      "execution_count": 175,
      "outputs": []
    },
    {
      "cell_type": "code",
      "source": [
        "# Aplicamos el escalado\n",
        "scaler = StandardScaler()\n",
        "X_scaled = pd.DataFrame(scaler.fit_transform(X), columns=X.columns)\n",
        "\n",
        "# Dividir en conjunto de entrenamiento (80%) y prueba (20%), asegurando que todas las clases estén presentes en ambos conjuntos\n",
        "X_train, X_test, y_train, y_test = train_test_split(X_scaled, y, test_size=0.2, random_state=123, stratify=y)"
      ],
      "metadata": {
        "id": "NxBnxoq0tYcR"
      },
      "execution_count": 176,
      "outputs": []
    },
    {
      "cell_type": "code",
      "source": [
        "smote = SMOTE(sampling_strategy='not majority', random_state=42, k_neighbors=3)\n",
        "X_smote, y_smote = smote.fit_resample(X_train, y_train)"
      ],
      "metadata": {
        "id": "tohWZ3q-tZZ0"
      },
      "execution_count": 177,
      "outputs": []
    },
    {
      "cell_type": "code",
      "source": [
        "# Aplicamos PCA sin limitar componentes (usa todos)\n",
        "pca = PCA()\n",
        "pca.fit(X_scaled)\n",
        "\n",
        "# Varianza explicada por cada componente\n",
        "explained_variance = pca.explained_variance_ratio_\n",
        "\n",
        "# Varianza acumulada\n",
        "cumulative_variance = np.cumsum(explained_variance)\n",
        "\n",
        "# Grafico Varianza\n",
        "plt.figure(figsize=(8, 5))\n",
        "plt.plot(range(1, len(explained_variance)+1), explained_variance, marker='o')\n",
        "plt.xlabel('Número de componentes')\n",
        "plt.ylabel('Varianza')\n",
        "plt.title('¿Cuántos componentes elegir en PCA?')\n",
        "plt.grid(True)\n",
        "plt.show()\n",
        "\n",
        "# Gráfico Varianza Acumulada\n",
        "plt.figure(figsize=(8, 5))\n",
        "plt.plot(range(1, len(cumulative_variance)+1), cumulative_variance, marker='o')\n",
        "plt.xlabel('Número de componentes')\n",
        "plt.ylabel('Varianza acumulada')\n",
        "plt.title('¿Cuántos componentes elegir en PCA?')\n",
        "plt.grid(True)\n",
        "plt.show()"
      ],
      "metadata": {
        "colab": {
          "base_uri": "https://localhost:8080/",
          "height": 959
        },
        "collapsed": true,
        "id": "mcPRF7nW3It3",
        "outputId": "89c5b963-f4c0-487c-f5d9-b43378c9c4a3"
      },
      "execution_count": 149,
      "outputs": [
        {
          "output_type": "display_data",
          "data": {
            "text/plain": [
              "<Figure size 800x500 with 1 Axes>"
            ],
            "image/png": "[encoded data removed]"
          },
          "metadata": {}
        },
        {
          "output_type": "display_data",
          "data": {
            "text/plain": [
              "<Figure size 800x500 with 1 Axes>"
            ],
            "image/png": "[encoded data removed]"
          },
          "metadata": {}
        }
      ]
    },
    {
      "cell_type": "code",
      "source": [
        "# debe ser entre 6 y 8\n",
        "pca = PCA(n_components=7)\n",
        "X_pca = pca.fit_transform(X_scaled)\n",
        "\n",
        "X_train_pca, X_test_pca, y_train_pca, y_test_pca = train_test_split(X_pca, y, test_size=0.2, random_state=123, stratify=y)"
      ],
      "metadata": {
        "id": "JURcuQfn3jrH"
      },
      "execution_count": 182,
      "outputs": []
    },
    {
      "cell_type": "code",
      "source": [
        "import copy"
      ],
      "metadata": {
        "id": "nUNIZPgKXBZ6"
      },
      "execution_count": 183,
      "outputs": []
    },
    {
      "cell_type": "code",
      "source": [
        "# Definir los hiperparámetros a probar\n",
        "param_dist = {\n",
        "    'n_estimators': [50, 100, 200],\n",
        "    'criterion': ['squared_error', 'absolute_error', 'friedman_mse', 'poisson'],\n",
        "    'max_depth': [None, 10, 20, 30],\n",
        "    'min_samples_split': [2, 5, 10],\n",
        "    'min_samples_leaf': [1, 2, 4],\n",
        "    'max_features': ['sqrt', 'log2'],\n",
        "}\n",
        "\n",
        "# Crear el modelo de Random Forest\n",
        "rf = RandomForestRegressor(random_state=42)\n",
        "\n",
        "# Búsqueda aleatoria\n",
        "random_search = RandomizedSearchCV(\n",
        "    estimator=rf,\n",
        "    param_distributions=param_dist,\n",
        "    n_iter=10,\n",
        "    cv=5,\n",
        "    n_jobs=-1,\n",
        "    scoring='neg_mean_absolute_error',\n",
        "    verbose=2,\n",
        "    random_state=42\n",
        ")\n",
        "# Assuming rs_smote is your RandomizedSearchCV object\n",
        "random_search_copy = copy.deepcopy(random_search)\n",
        "\n",
        "rs_smote = random_search.fit(X_smote, y_smote)\n",
        "rs_pca = random_search_copy.fit(X_train_pca, y_train_pca)\n",
        "\n",
        "# Mejor modelo encontrado\n",
        "best_rf_smote = rs_smote.best_estimator_\n",
        "best_rf_pca = rs_pca.best_estimator_"
      ],
      "metadata": {
        "colab": {
          "base_uri": "https://localhost:8080/"
        },
        "id": "II3KTtpBPOOC",
        "outputId": "ba6955fb-614f-4b94-8f85-69bba49e4e5c"
      },
      "execution_count": 186,
      "outputs": [
        {
          "output_type": "stream",
          "name": "stdout",
          "text": [
            "Fitting 5 folds for each of 10 candidates, totalling 50 fits\n",
            "Fitting 5 folds for each of 10 candidates, totalling 50 fits\n"
          ]
        }
      ]
    },
    {
      "cell_type": "code",
      "source": [
        "# Predecir con el mejor modelo Random forest\n",
        "y_pred_rf = best_rf_smote.predict(X_test)\n",
        "resultados(y_test, y_pred_rf)\n",
        "print()\n",
        "y_pred_rf = best_rf_pca.predict(X_test_pca)\n",
        "resultados(y_test, y_pred_rf)"
      ],
      "metadata": {
        "colab": {
          "base_uri": "https://localhost:8080/"
        },
        "id": "Ck_Oww8LYE0J",
        "outputId": "e20f3f7b-6d5c-4390-f542-b5025a74722b"
      },
      "execution_count": 188,
      "outputs": [
        {
          "output_type": "stream",
          "name": "stdout",
          "text": [
            "MAE - Mejor Random Forest: 0.16952633477633477\n",
            "MSE - Mejor Random Forest: 0.06179990693180124\n",
            "R² - Mejor Random Forest: 0.4349722794806744\n",
            "\n",
            "MAE - Mejor Random Forest: 0.12450000000000001\n",
            "MSE - Mejor Random Forest: 0.05201374999999999\n",
            "R² - Mejor Random Forest: 0.5244457142857144\n"
          ]
        }
      ]
    },
    {
      "cell_type": "code",
      "source": [
        "# Definir los hiperparámetros a probar\n",
        "param_dist = {\n",
        "    'kernel': ['linear', 'poly', 'rbf', 'sigmoid'],\n",
        "    'C': [0.1, 1, 10, 100],\n",
        "    'gamma': ['scale', 'auto', 0.1, 1],\n",
        "    'epsilon': [0.01, 0.1, 1],\n",
        "    'max_iter': [50, 100, 500]\n",
        "}\n",
        "\n",
        "# Crear el modelo de Support Vector Machine\n",
        "svr = SVR()\n",
        "\n",
        "# Búsqueda aleatoria\n",
        "random_search = RandomizedSearchCV(\n",
        "    estimator=svr,\n",
        "    param_distributions=param_dist,\n",
        "    n_iter=10,\n",
        "    cv=5,\n",
        "    n_jobs=-1,\n",
        "    scoring='neg_mean_absolute_error',\n",
        "    verbose=2,\n",
        "    random_state=42\n",
        ")\n",
        "\n",
        "random_search.fit(X_smote, y_smote)\n",
        "\n",
        "# Mejor modelo encontrado\n",
        "best_svr = random_search.best_estimator_"
      ],
      "metadata": {
        "colab": {
          "base_uri": "https://localhost:8080/"
        },
        "id": "QftbSSgDtwWG",
        "outputId": "ff5225aa-6d98-4138-f726-0654dc571918"
      },
      "execution_count": 180,
      "outputs": [
        {
          "output_type": "stream",
          "name": "stdout",
          "text": [
            "Fitting 5 folds for each of 10 candidates, totalling 50 fits\n"
          ]
        },
        {
          "output_type": "stream",
          "name": "stderr",
          "text": [
            "/usr/local/lib/python3.11/dist-packages/sklearn/svm/_base.py:305: ConvergenceWarning: Solver terminated early (max_iter=50).  Consider pre-processing your data with StandardScaler or MinMaxScaler.\n",
            "  warnings.warn(\n"
          ]
        }
      ]
    },
    {
      "cell_type": "code",
      "source": [
        "# Predecir con el mejor modelo\n",
        "y_pred_svr = best_svr.predict(X_test)\n",
        "resultados(y_test, y_pred_svr)"
      ],
      "metadata": {
        "colab": {
          "base_uri": "https://localhost:8080/"
        },
        "id": "mLS9gkqZty8T",
        "outputId": "a9d989b1-a67e-4a2a-ede9-1818141eb777"
      },
      "execution_count": 181,
      "outputs": [
        {
          "output_type": "stream",
          "name": "stdout",
          "text": [
            "MAE - Mejor Random Forest: 0.22378206433383935\n",
            "MSE - Mejor Random Forest: 0.10257981525128215\n",
            "R² - Mejor Random Forest: 0.06212740341684897\n"
          ]
        }
      ]
    },
    {
      "cell_type": "code",
      "source": [
        "from sklearn.neighbors import KNeighborsRegressor\n",
        "from sklearn.model_selection import cross_val_score\n",
        "\n",
        "k_range = range(1, 11)\n",
        "mean_scores = []\n",
        "\n",
        "for k in k_range:\n",
        "    knn_regressor = KNeighborsRegressor(n_neighbors=k)\n",
        "    scores = cross_val_score(knn_regressor, X_smote, y_smote, cv=5, scoring='r2')\n",
        "    mean_scores.append(np.mean(scores))\n",
        "\n",
        "# Encontrar el mejor K\n",
        "best_k = k_range[np.argmax(mean_scores)]\n",
        "print(f'El mejor número de vecinos (K) es: {best_k}. Con un puntaje de {mean_scores[0]:.4f}')"
      ],
      "metadata": {
        "colab": {
          "base_uri": "https://localhost:8080/"
        },
        "id": "5T0fO2Qct1w2",
        "outputId": "3d407233-4230-4844-8a63-92d52189949c"
      },
      "execution_count": 143,
      "outputs": [
        {
          "output_type": "stream",
          "name": "stdout",
          "text": [
            "El mejor número de vecinos (K) es: 1. Con un puntaje de 0.5401\n"
          ]
        }
      ]
    },
    {
      "cell_type": "code",
      "source": [
        "#Esta linea es innecesaria, es netamente para visualización y demostración\n",
        "plt.figure(figsize=(10, 6))\n",
        "plt.plot(k_range, mean_scores, marker='o')\n",
        "plt.title('Validación Cruzada: r2 vs Número de Vecinos (K)')\n",
        "plt.xlabel('Número de Vecinos (K)')\n",
        "plt.ylabel('Coeficiente de determinación (r2)')\n",
        "plt.xticks(k_range)\n",
        "plt.grid()\n",
        "plt.show()"
      ],
      "metadata": {
        "colab": {
          "base_uri": "https://localhost:8080/",
          "height": 549
        },
        "id": "gppAwjw4t39n",
        "outputId": "ec59fc23-9e40-4d60-9faa-d6b271a9d165"
      },
      "execution_count": 144,
      "outputs": [
        {
          "output_type": "display_data",
          "data": {
            "text/plain": [
              "<Figure size 1000x600 with 1 Axes>"
            ],
            "image/png": "[encoded data removed]"
          },
          "metadata": {}
        }
      ]
    },
    {
      "cell_type": "code",
      "source": [
        "final_knn = KNeighborsRegressor(n_neighbors=best_k)\n",
        "red = final_knn.fit(X_smote, y_smote)\n",
        "\n",
        "scores = -cross_val_score(final_knn, X_smote, y_smote, cv=5, scoring='neg_mean_squared_error')\n",
        "scores = cross_val_score(final_knn, X_smote, y_smote, cv=5, scoring='r2')\n",
        "y_pred = red.predict(X_test)\n",
        "knn_MSE = mean_squared_error(y_test, y_pred)\n",
        "knn_r2 = r2_score(y_test, y_pred)"
      ],
      "metadata": {
        "id": "VqwCeKbkt6V2"
      },
      "execution_count": 145,
      "outputs": []
    },
    {
      "cell_type": "code",
      "source": [
        "print(f'Resultados:\\n\\n'\n",
        "     f'\\tMSE: {knn_MSE:.4f}\\n'\n",
        "     f'\\tr2 : {knn_r2:.4f}')"
      ],
      "metadata": {
        "colab": {
          "base_uri": "https://localhost:8080/"
        },
        "id": "ZEOCIT4et9bg",
        "outputId": "12d381d0-9652-4388-c2ae-0e7dbd3ba9d2"
      },
      "execution_count": 146,
      "outputs": [
        {
          "output_type": "stream",
          "name": "stdout",
          "text": [
            "Resultados:\n",
            "\n",
            "\tMSE: 0.1000\n",
            "\tr2 : 0.0857\n"
          ]
        }
      ]
    },
    {
      "cell_type": "code",
      "source": [
        "# Definir los hiperparámetros a probar\n",
        "param_dist = {\n",
        "    'n_neighbors': range(1, 11),\n",
        "    'metric': ['euclidean', 'manhattan', 'minkowski'],\n",
        "    'weights': ['uniform', 'distance'],\n",
        "    'n_jobs': [-1]\n",
        "}\n",
        "\n",
        "# Crear el modelo de Support Vector Machine\n",
        "knn = KNeighborsRegressor()\n",
        "\n",
        "# Búsqueda aleatoria\n",
        "random_search = RandomizedSearchCV(\n",
        "    estimator=knn,\n",
        "    param_distributions=param_dist,\n",
        "    n_iter=10,\n",
        "    cv=5,\n",
        "    n_jobs=-1,\n",
        "    scoring='neg_mean_absolute_error',\n",
        "    verbose=2,\n",
        "    random_state=42\n",
        ")\n",
        "\n",
        "random_search.fit(X_smote, y_smote)\n",
        "\n",
        "# Mejor modelo encontrado\n",
        "best_knn = random_search.best_estimator_"
      ],
      "metadata": {
        "colab": {
          "base_uri": "https://localhost:8080/"
        },
        "id": "O2mqnqbluAmB",
        "outputId": "8fe57944-c149-4455-eda1-69c604c04306"
      },
      "execution_count": 147,
      "outputs": [
        {
          "output_type": "stream",
          "name": "stdout",
          "text": [
            "Fitting 5 folds for each of 10 candidates, totalling 50 fits\n"
          ]
        }
      ]
    },
    {
      "cell_type": "code",
      "source": [
        "# Predecir con el mejor modelo\n",
        "y_pred_knn = best_knn.predict(X_test)\n",
        "resultados(y_test, y_pred_knn)"
      ],
      "metadata": {
        "colab": {
          "base_uri": "https://localhost:8080/"
        },
        "id": "kFTeYN1-uBWM",
        "outputId": "a50b0a71-66e7-4f27-dda9-8b47a33ad185"
      },
      "execution_count": 148,
      "outputs": [
        {
          "output_type": "stream",
          "name": "stdout",
          "text": [
            "MAE - Mejor Random Forest: 0.1\n",
            "MSE - Mejor Random Forest: 0.1\n",
            "R² - Mejor Random Forest: 0.08571428571428574\n"
          ]
        }
      ]
    },
    {
      "cell_type": "code",
      "source": [
        "# Definir los hiperparámetros a probar\n",
        "param_dist = {\n",
        "    'kernel': ['linear', 'poly', 'rbf', 'sigmoid'],\n",
        "    'C': [0.1, 1, 10, 100],\n",
        "    'gamma': ['scale', 'auto', 0.1, 1],\n",
        "    'epsilon': [0.01, 0.1, 1],\n",
        "    'max_iter': [50, 100, 500]\n",
        "}\n",
        "\n",
        "# Crear el modelo de Support Vector Machine\n",
        "svr = SVR()\n",
        "\n",
        "# Búsqueda aleatoria\n",
        "random_search = RandomizedSearchCV(\n",
        "    estimator=svr,\n",
        "    param_distributions=param_dist,\n",
        "    n_iter=10,\n",
        "    cv=5,\n",
        "    n_jobs=-1,\n",
        "    scoring='neg_mean_absolute_error',\n",
        "    verbose=2,\n",
        "    random_state=42\n",
        ")\n",
        "\n",
        "random_search.fit(X_train, y_train)\n",
        "\n",
        "# Mejor modelo encontrado\n",
        "best_svr = random_search.best_estimator_"
      ],
      "metadata": {
        "colab": {
          "base_uri": "https://localhost:8080/"
        },
        "id": "vHLGxKcCQsQf",
        "outputId": "36c36a6f-20c1-45a5-9c30-ce64cb73eb32"
      },
      "execution_count": 153,
      "outputs": [
        {
          "output_type": "stream",
          "name": "stdout",
          "text": [
            "Fitting 5 folds for each of 10 candidates, totalling 50 fits\n"
          ]
        }
      ]
    },
    {
      "cell_type": "code",
      "source": [
        "# Predecir con el mejor modelo\n",
        "y_pred_svr = best_svr.predict(X_test)\n",
        "resultados(y_test, y_pred_svr)"
      ],
      "metadata": {
        "colab": {
          "base_uri": "https://localhost:8080/"
        },
        "id": "KTFOcBgdRaZp",
        "outputId": "72aa7be6-12f8-4bea-d92a-9fcd8d6db537"
      },
      "execution_count": 154,
      "outputs": [
        {
          "output_type": "stream",
          "name": "stdout",
          "text": [
            "MAE - Mejor Random Forest: 0.12974998079555972\n",
            "MSE - Mejor Random Forest: 0.11934374903357078\n",
            "R² - Mejor Random Forest: -0.09114284830693298\n"
          ]
        }
      ]
    },
    {
      "cell_type": "code",
      "source": [
        "k_range = range(1, 11)\n",
        "mean_scores = []\n",
        "\n",
        "for k in k_range:\n",
        "    knn_regressor = KNeighborsRegressor(n_neighbors=k)\n",
        "    scores = cross_val_score(knn_regressor, X_train, y_train, cv=5, scoring='r2')\n",
        "    mean_scores.append(np.mean(scores))\n",
        "\n",
        "# Encontrar el mejor K\n",
        "best_k = k_range[np.argmax(mean_scores)]\n",
        "print(f'El mejor número de vecinos (K) es: {best_k}. Con un puntaje de {mean_scores[0]:.4f}')"
      ],
      "metadata": {
        "colab": {
          "base_uri": "https://localhost:8080/"
        },
        "id": "du6YCoYMT5KK",
        "outputId": "66fe35ff-2f17-4b34-a587-a4179a22902b"
      },
      "execution_count": 160,
      "outputs": [
        {
          "output_type": "stream",
          "name": "stdout",
          "text": [
            "El mejor número de vecinos (K) es: 3. Con un puntaje de 0.0504\n"
          ]
        }
      ]
    }
  ]
}