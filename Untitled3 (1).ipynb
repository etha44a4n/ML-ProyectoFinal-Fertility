{
  "nbformat": 4,
  "nbformat_minor": 0,
  "metadata": {
    "colab": {
      "provenance": []
    },
    "kernelspec": {
      "name": "python3",
      "display_name": "Python 3"
    },
    "language_info": {
      "name": "python"
    }
  },
  "cells": [
    {
      "cell_type": "markdown",
      "source": [
        "#**Aplicación de Regresión Lineal.**\n",
        "\n",
        "Este apartado del trabajo busca evaluar si es posible predecir el DataSet escogido con distintos modelos de regresión, haciendo distintas pruebas de aplicación.\n",
        "\n",
        "Primero iniciamos importando distintas librerias que nos serán utiles a lo largo de esta tarea."
      ],
      "metadata": {
        "id": "Zo2dIwHZDD93"
      }
    },
    {
      "cell_type": "code",
      "source": [],
      "metadata": {
        "id": "lP3N8N4IEARH"
      },
      "execution_count": null,
      "outputs": []
    },
    {
      "cell_type": "code",
      "source": [
        "!pip install kagglehub --upgrade"
      ],
      "metadata": {
        "colab": {
          "base_uri": "https://localhost:8080/"
        },
        "collapsed": true,
        "id": "y1W6lOfKs9kd",
        "outputId": "9f078d39-f838-4957-8d27-c848ca94b2cc"
      },
      "execution_count": 82,
      "outputs": [
        {
          "output_type": "stream",
          "name": "stdout",
          "text": [
            "Requirement already satisfied: kagglehub in /usr/local/lib/python3.11/dist-packages (0.3.12)\n",
            "Requirement already satisfied: packaging in /usr/local/lib/python3.11/dist-packages (from kagglehub) (24.2)\n",
            "Requirement already satisfied: pyyaml in /usr/local/lib/python3.11/dist-packages (from kagglehub) (6.0.2)\n",
            "Requirement already satisfied: requests in /usr/local/lib/python3.11/dist-packages (from kagglehub) (2.32.3)\n",
            "Requirement already satisfied: tqdm in /usr/local/lib/python3.11/dist-packages (from kagglehub) (4.67.1)\n",
            "Requirement already satisfied: charset-normalizer<4,>=2 in /usr/local/lib/python3.11/dist-packages (from requests->kagglehub) (3.4.2)\n",
            "Requirement already satisfied: idna<4,>=2.5 in /usr/local/lib/python3.11/dist-packages (from requests->kagglehub) (3.10)\n",
            "Requirement already satisfied: urllib3<3,>=1.21.1 in /usr/local/lib/python3.11/dist-packages (from requests->kagglehub) (2.4.0)\n",
            "Requirement already satisfied: certifi>=2017.4.17 in /usr/local/lib/python3.11/dist-packages (from requests->kagglehub) (2025.6.15)\n"
          ]
        }
      ]
    },
    {
      "cell_type": "code",
      "source": [
        "# Para la importación del DataSet\n",
        "import kagglehub\n",
        "import os\n",
        "\n",
        "# Para convertir cada parametro que no sea numerico, a numerico\n",
        "from sklearn.preprocessing import LabelEncoder\n",
        "\n",
        "from sklearn.decomposition import PCA\n",
        "import numpy as np\n",
        "import matplotlib.pyplot as plt\n",
        "import pandas as pd\n",
        "from sklearn.svm import SVC, SVR\n",
        "from sklearn.preprocessing import StandardScaler\n",
        "from sklearn.model_selection import train_test_split, GridSearchCV\n",
        "from sklearn.metrics import mean_squared_error, mean_absolute_error, r2_score\n",
        "from sklearn.utils import shuffle\n",
        "from sklearn.model_selection import RandomizedSearchCV\n",
        "from sklearn.ensemble import RandomForestRegressor\n",
        "import seaborn as sns\n",
        "from imblearn.over_sampling import SMOTE"
      ],
      "metadata": {
        "id": "dkyeG2KwVSLD"
      },
      "execution_count": 83,
      "outputs": []
    },
    {
      "cell_type": "markdown",
      "source": [
        "# **Importación del y trata del DataSet**\n",
        "\n",
        "La importación la hacemos directamente de Kaggle, sin necesidad de descargar el DataSet. En este punto hacemos el DataFrame del Dataset."
      ],
      "metadata": {
        "id": "04mlEofyEEsH"
      }
    },
    {
      "cell_type": "code",
      "source": [
        "path = kagglehub.dataset_download('muhamedyoussry/fertility-data-set')\n",
        "file_list = os.listdir(path)\n",
        "\n",
        "df = pd.read_csv(path + '/' + file_list[0])\n",
        "display(df.head())"
      ],
      "metadata": {
        "colab": {
          "base_uri": "https://localhost:8080/",
          "height": 553
        },
        "collapsed": true,
        "id": "vz6eOBIroBPX",
        "outputId": "fd88fdc7-208a-4806-d183-47d3c2f7ac08"
      },
      "execution_count": 84,
      "outputs": [
        {
          "output_type": "display_data",
          "data": {
            "text/plain": [
              "   Season  Age Childish diseases Accident or serious trauma  \\\n",
              "0  spring   30                no                        yes   \n",
              "1  spring   35               yes                         no   \n",
              "2  spring   27               yes                         no   \n",
              "3  spring   32                no                        yes   \n",
              "4  spring   30               yes                        yes   \n",
              "\n",
              "  Surgical intervention High fevers in the last year  \\\n",
              "0                   yes       more than 3 months ago   \n",
              "1                   yes       more than 3 months ago   \n",
              "2                    no       more than 3 months ago   \n",
              "3                   yes       more than 3 months ago   \n",
              "4                    no       more than 3 months ago   \n",
              "\n",
              "  Frequency of alcohol consumption Smoking habit  \\\n",
              "0                      once a week    occasional   \n",
              "1                      once a week         daily   \n",
              "2             hardly ever or never         never   \n",
              "3             hardly ever or never         never   \n",
              "4                      once a week         never   \n",
              "\n",
              "   Number of hours spent sitting per day Diagnosis  \n",
              "0                                     16    Normal  \n",
              "1                                      6   Altered  \n",
              "2                                      9    Normal  \n",
              "3                                      7    Normal  \n",
              "4                                      9   Altered  "
            ],
            "text/html": [
              "\n",
              "  <div id=\"df-552de660-25c0-47b5-ad05-2b2f691952f3\" class=\"colab-df-container\">\n",
              "    <div>\n",
              "<style scoped>\n",
              "    .dataframe tbody tr th:only-of-type {\n",
              "        vertical-align: middle;\n",
              "    }\n",
              "\n",
              "    .dataframe tbody tr th {\n",
              "        vertical-align: top;\n",
              "    }\n",
              "\n",
              "    .dataframe thead th {\n",
              "        text-align: right;\n",
              "    }\n",
              "</style>\n",
              "<table border=\"1\" class=\"dataframe\">\n",
              "  <thead>\n",
              "    <tr style=\"text-align: right;\">\n",
              "      <th></th>\n",
              "      <th>Season</th>\n",
              "      <th>Age</th>\n",
              "      <th>Childish diseases</th>\n",
              "      <th>Accident or serious trauma</th>\n",
              "      <th>Surgical intervention</th>\n",
              "      <th>High fevers in the last year</th>\n",
              "      <th>Frequency of alcohol consumption</th>\n",
              "      <th>Smoking habit</th>\n",
              "      <th>Number of hours spent sitting per day</th>\n",
              "      <th>Diagnosis</th>\n",
              "    </tr>\n",
              "  </thead>\n",
              "  <tbody>\n",
              "    <tr>\n",
              "      <th>0</th>\n",
              "      <td>spring</td>\n",
              "      <td>30</td>\n",
              "      <td>no</td>\n",
              "      <td>yes</td>\n",
              "      <td>yes</td>\n",
              "      <td>more than 3 months ago</td>\n",
              "      <td>once a week</td>\n",
              "      <td>occasional</td>\n",
              "      <td>16</td>\n",
              "      <td>Normal</td>\n",
              "    </tr>\n",
              "    <tr>\n",
              "      <th>1</th>\n",
              "      <td>spring</td>\n",
              "      <td>35</td>\n",
              "      <td>yes</td>\n",
              "      <td>no</td>\n",
              "      <td>yes</td>\n",
              "      <td>more than 3 months ago</td>\n",
              "      <td>once a week</td>\n",
              "      <td>daily</td>\n",
              "      <td>6</td>\n",
              "      <td>Altered</td>\n",
              "    </tr>\n",
              "    <tr>\n",
              "      <th>2</th>\n",
              "      <td>spring</td>\n",
              "      <td>27</td>\n",
              "      <td>yes</td>\n",
              "      <td>no</td>\n",
              "      <td>no</td>\n",
              "      <td>more than 3 months ago</td>\n",
              "      <td>hardly ever or never</td>\n",
              "      <td>never</td>\n",
              "      <td>9</td>\n",
              "      <td>Normal</td>\n",
              "    </tr>\n",
              "    <tr>\n",
              "      <th>3</th>\n",
              "      <td>spring</td>\n",
              "      <td>32</td>\n",
              "      <td>no</td>\n",
              "      <td>yes</td>\n",
              "      <td>yes</td>\n",
              "      <td>more than 3 months ago</td>\n",
              "      <td>hardly ever or never</td>\n",
              "      <td>never</td>\n",
              "      <td>7</td>\n",
              "      <td>Normal</td>\n",
              "    </tr>\n",
              "    <tr>\n",
              "      <th>4</th>\n",
              "      <td>spring</td>\n",
              "      <td>30</td>\n",
              "      <td>yes</td>\n",
              "      <td>yes</td>\n",
              "      <td>no</td>\n",
              "      <td>more than 3 months ago</td>\n",
              "      <td>once a week</td>\n",
              "      <td>never</td>\n",
              "      <td>9</td>\n",
              "      <td>Altered</td>\n",
              "    </tr>\n",
              "  </tbody>\n",
              "</table>\n",
              "</div>\n",
              "    <div class=\"colab-df-buttons\">\n",
              "\n",
              "  <div class=\"colab-df-container\">\n",
              "    <button class=\"colab-df-convert\" onclick=\"convertToInteractive('df-552de660-25c0-47b5-ad05-2b2f691952f3')\"\n",
              "            title=\"Convert this dataframe to an interactive table.\"\n",
              "            style=\"display:none;\">\n",
              "\n",
              "  <svg xmlns=\"http://www.w3.org/2000/svg\" height=\"24px\" viewBox=\"0 -960 960 960\">\n",
              "    <path d=\"M120-120v-720h720v720H120Zm60-500h600v-160H180v160Zm220 220h160v-160H400v160Zm0 220h160v-160H400v160ZM180-400h160v-160H180v160Zm440 0h160v-160H620v160ZM180-180h160v-160H180v160Zm440 0h160v-160H620v160Z\"/>\n",
              "  </svg>\n",
              "    </button>\n",
              "\n",
              "  <style>\n",
              "    .colab-df-container {\n",
              "      display:flex;\n",
              "      gap: 12px;\n",
              "    }\n",
              "\n",
              "    .colab-df-convert {\n",
              "      background-color: #E8F0FE;\n",
              "      border: none;\n",
              "      border-radius: 50%;\n",
              "      cursor: pointer;\n",
              "      display: none;\n",
              "      fill: #1967D2;\n",
              "      height: 32px;\n",
              "      padding: 0 0 0 0;\n",
              "      width: 32px;\n",
              "    }\n",
              "\n",
              "    .colab-df-convert:hover {\n",
              "      background-color: #E2EBFA;\n",
              "      box-shadow: 0px 1px 2px rgba(60, 64, 67, 0.3), 0px 1px 3px 1px rgba(60, 64, 67, 0.15);\n",
              "      fill: #174EA6;\n",
              "    }\n",
              "\n",
              "    .colab-df-buttons div {\n",
              "      margin-bottom: 4px;\n",
              "    }\n",
              "\n",
              "    [theme=dark] .colab-df-convert {\n",
              "      background-color: #3B4455;\n",
              "      fill: #D2E3FC;\n",
              "    }\n",
              "\n",
              "    [theme=dark] .colab-df-convert:hover {\n",
              "      background-color: #434B5C;\n",
              "      box-shadow: 0px 1px 3px 1px rgba(0, 0, 0, 0.15);\n",
              "      filter: drop-shadow(0px 1px 2px rgba(0, 0, 0, 0.3));\n",
              "      fill: #FFFFFF;\n",
              "    }\n",
              "  </style>\n",
              "\n",
              "    <script>\n",
              "      const buttonEl =\n",
              "        document.querySelector('#df-552de660-25c0-47b5-ad05-2b2f691952f3 button.colab-df-convert');\n",
              "      buttonEl.style.display =\n",
              "        google.colab.kernel.accessAllowed ? 'block' : 'none';\n",
              "\n",
              "      async function convertToInteractive(key) {\n",
              "        const element = document.querySelector('#df-552de660-25c0-47b5-ad05-2b2f691952f3');\n",
              "        const dataTable =\n",
              "          await google.colab.kernel.invokeFunction('convertToInteractive',\n",
              "                                                    [key], {});\n",
              "        if (!dataTable) return;\n",
              "\n",
              "        const docLinkHtml = 'Like what you see? Visit the ' +\n",
              "          '<a target=\"_blank\" href=https://colab.research.google.com/notebooks/data_table.ipynb>data table notebook</a>'\n",
              "          + ' to learn more about interactive tables.';\n",
              "        element.innerHTML = '';\n",
              "        dataTable['output_type'] = 'display_data';\n",
              "        await google.colab.output.renderOutput(dataTable, element);\n",
              "        const docLink = document.createElement('div');\n",
              "        docLink.innerHTML = docLinkHtml;\n",
              "        element.appendChild(docLink);\n",
              "      }\n",
              "    </script>\n",
              "  </div>\n",
              "\n",
              "\n",
              "    <div id=\"df-2473738c-a961-4a6e-984a-6a783d9f24ef\">\n",
              "      <button class=\"colab-df-quickchart\" onclick=\"quickchart('df-2473738c-a961-4a6e-984a-6a783d9f24ef')\"\n",
              "                title=\"Suggest charts\"\n",
              "                style=\"display:none;\">\n",
              "\n",
              "<svg xmlns=\"http://www.w3.org/2000/svg\" height=\"24px\"viewBox=\"0 0 24 24\"\n",
              "     width=\"24px\">\n",
              "    <g>\n",
              "        <path d=\"M19 3H5c-1.1 0-2 .9-2 2v14c0 1.1.9 2 2 2h14c1.1 0 2-.9 2-2V5c0-1.1-.9-2-2-2zM9 17H7v-7h2v7zm4 0h-2V7h2v10zm4 0h-2v-4h2v4z\"/>\n",
              "    </g>\n",
              "</svg>\n",
              "      </button>\n",
              "\n",
              "<style>\n",
              "  .colab-df-quickchart {\n",
              "      --bg-color: #E8F0FE;\n",
              "      --fill-color: #1967D2;\n",
              "      --hover-bg-color: #E2EBFA;\n",
              "      --hover-fill-color: #174EA6;\n",
              "      --disabled-fill-color: #AAA;\n",
              "      --disabled-bg-color: #DDD;\n",
              "  }\n",
              "\n",
              "  [theme=dark] .colab-df-quickchart {\n",
              "      --bg-color: #3B4455;\n",
              "      --fill-color: #D2E3FC;\n",
              "      --hover-bg-color: #434B5C;\n",
              "      --hover-fill-color: #FFFFFF;\n",
              "      --disabled-bg-color: #3B4455;\n",
              "      --disabled-fill-color: #666;\n",
              "  }\n",
              "\n",
              "  .colab-df-quickchart {\n",
              "    background-color: var(--bg-color);\n",
              "    border: none;\n",
              "    border-radius: 50%;\n",
              "    cursor: pointer;\n",
              "    display: none;\n",
              "    fill: var(--fill-color);\n",
              "    height: 32px;\n",
              "    padding: 0;\n",
              "    width: 32px;\n",
              "  }\n",
              "\n",
              "  .colab-df-quickchart:hover {\n",
              "    background-color: var(--hover-bg-color);\n",
              "    box-shadow: 0 1px 2px rgba(60, 64, 67, 0.3), 0 1px 3px 1px rgba(60, 64, 67, 0.15);\n",
              "    fill: var(--button-hover-fill-color);\n",
              "  }\n",
              "\n",
              "  .colab-df-quickchart-complete:disabled,\n",
              "  .colab-df-quickchart-complete:disabled:hover {\n",
              "    background-color: var(--disabled-bg-color);\n",
              "    fill: var(--disabled-fill-color);\n",
              "    box-shadow: none;\n",
              "  }\n",
              "\n",
              "  .colab-df-spinner {\n",
              "    border: 2px solid var(--fill-color);\n",
              "    border-color: transparent;\n",
              "    border-bottom-color: var(--fill-color);\n",
              "    animation:\n",
              "      spin 1s steps(1) infinite;\n",
              "  }\n",
              "\n",
              "  @keyframes spin {\n",
              "    0% {\n",
              "      border-color: transparent;\n",
              "      border-bottom-color: var(--fill-color);\n",
              "      border-left-color: var(--fill-color);\n",
              "    }\n",
              "    20% {\n",
              "      border-color: transparent;\n",
              "      border-left-color: var(--fill-color);\n",
              "      border-top-color: var(--fill-color);\n",
              "    }\n",
              "    30% {\n",
              "      border-color: transparent;\n",
              "      border-left-color: var(--fill-color);\n",
              "      border-top-color: var(--fill-color);\n",
              "      border-right-color: var(--fill-color);\n",
              "    }\n",
              "    40% {\n",
              "      border-color: transparent;\n",
              "      border-right-color: var(--fill-color);\n",
              "      border-top-color: var(--fill-color);\n",
              "    }\n",
              "    60% {\n",
              "      border-color: transparent;\n",
              "      border-right-color: var(--fill-color);\n",
              "    }\n",
              "    80% {\n",
              "      border-color: transparent;\n",
              "      border-right-color: var(--fill-color);\n",
              "      border-bottom-color: var(--fill-color);\n",
              "    }\n",
              "    90% {\n",
              "      border-color: transparent;\n",
              "      border-bottom-color: var(--fill-color);\n",
              "    }\n",
              "  }\n",
              "</style>\n",
              "\n",
              "      <script>\n",
              "        async function quickchart(key) {\n",
              "          const quickchartButtonEl =\n",
              "            document.querySelector('#' + key + ' button');\n",
              "          quickchartButtonEl.disabled = true;  // To prevent multiple clicks.\n",
              "          quickchartButtonEl.classList.add('colab-df-spinner');\n",
              "          try {\n",
              "            const charts = await google.colab.kernel.invokeFunction(\n",
              "                'suggestCharts', [key], {});\n",
              "          } catch (error) {\n",
              "            console.error('Error during call to suggestCharts:', error);\n",
              "          }\n",
              "          quickchartButtonEl.classList.remove('colab-df-spinner');\n",
              "          quickchartButtonEl.classList.add('colab-df-quickchart-complete');\n",
              "        }\n",
              "        (() => {\n",
              "          let quickchartButtonEl =\n",
              "            document.querySelector('#df-2473738c-a961-4a6e-984a-6a783d9f24ef button');\n",
              "          quickchartButtonEl.style.display =\n",
              "            google.colab.kernel.accessAllowed ? 'block' : 'none';\n",
              "        })();\n",
              "      </script>\n",
              "    </div>\n",
              "\n",
              "    </div>\n",
              "  </div>\n"
            ],
            "application/vnd.google.colaboratory.intrinsic+json": {
              "type": "dataframe",
              "summary": "{\n  \"name\": \"display(df\",\n  \"rows\": 5,\n  \"fields\": [\n    {\n      \"column\": \"Season\",\n      \"properties\": {\n        \"dtype\": \"category\",\n        \"num_unique_values\": 1,\n        \"samples\": [\n          \"spring\"\n        ],\n        \"semantic_type\": \"\",\n        \"description\": \"\"\n      }\n    },\n    {\n      \"column\": \"Age\",\n      \"properties\": {\n        \"dtype\": \"number\",\n        \"std\": 2,\n        \"min\": 27,\n        \"max\": 35,\n        \"num_unique_values\": 4,\n        \"samples\": [\n          35\n        ],\n        \"semantic_type\": \"\",\n        \"description\": \"\"\n      }\n    },\n    {\n      \"column\": \"Childish diseases\",\n      \"properties\": {\n        \"dtype\": \"category\",\n        \"num_unique_values\": 2,\n        \"samples\": [\n          \"yes\"\n        ],\n        \"semantic_type\": \"\",\n        \"description\": \"\"\n      }\n    },\n    {\n      \"column\": \"Accident or serious trauma\",\n      \"properties\": {\n        \"dtype\": \"category\",\n        \"num_unique_values\": 2,\n        \"samples\": [\n          \"no\"\n        ],\n        \"semantic_type\": \"\",\n        \"description\": \"\"\n      }\n    },\n    {\n      \"column\": \"Surgical intervention\",\n      \"properties\": {\n        \"dtype\": \"category\",\n        \"num_unique_values\": 2,\n        \"samples\": [\n          \"no\"\n        ],\n        \"semantic_type\": \"\",\n        \"description\": \"\"\n      }\n    },\n    {\n      \"column\": \"High fevers in the last year\",\n      \"properties\": {\n        \"dtype\": \"category\",\n        \"num_unique_values\": 1,\n        \"samples\": [\n          \"more than 3 months ago\"\n        ],\n        \"semantic_type\": \"\",\n        \"description\": \"\"\n      }\n    },\n    {\n      \"column\": \"Frequency of alcohol consumption\",\n      \"properties\": {\n        \"dtype\": \"category\",\n        \"num_unique_values\": 2,\n        \"samples\": [\n          \"hardly ever or never\"\n        ],\n        \"semantic_type\": \"\",\n        \"description\": \"\"\n      }\n    },\n    {\n      \"column\": \"Smoking habit\",\n      \"properties\": {\n        \"dtype\": \"string\",\n        \"num_unique_values\": 3,\n        \"samples\": [\n          \"occasional\"\n        ],\n        \"semantic_type\": \"\",\n        \"description\": \"\"\n      }\n    },\n    {\n      \"column\": \"Number of hours spent sitting per day\",\n      \"properties\": {\n        \"dtype\": \"number\",\n        \"std\": 3,\n        \"min\": 6,\n        \"max\": 16,\n        \"num_unique_values\": 4,\n        \"samples\": [\n          6\n        ],\n        \"semantic_type\": \"\",\n        \"description\": \"\"\n      }\n    },\n    {\n      \"column\": \"Diagnosis\",\n      \"properties\": {\n        \"dtype\": \"category\",\n        \"num_unique_values\": 2,\n        \"samples\": [\n          \"Altered\"\n        ],\n        \"semantic_type\": \"\",\n        \"description\": \"\"\n      }\n    }\n  ]\n}"
            }
          },
          "metadata": {}
        }
      ]
    },
    {
      "cell_type": "markdown",
      "source": [
        "En este apartado identificamos aquellas columnas con valores descriptivos o no numericos para, a través de label encoding, hacerlos numericos"
      ],
      "metadata": {
        "id": "MEJV8_1REZIo"
      }
    },
    {
      "cell_type": "code",
      "source": [
        "lista_nombres_columnas = df.columns.tolist()\n",
        "for c in range(len(lista_nombres_columnas)):\n",
        "    nombre = lista_nombres_columnas[c]\n",
        "    print(f'{c}-. {nombre}')\n",
        "    valores = df[nombre].unique().tolist()\n",
        "    print(f'\\t{valores}')"
      ],
      "metadata": {
        "colab": {
          "base_uri": "https://localhost:8080/"
        },
        "collapsed": true,
        "id": "11hIvcTKa6U_",
        "outputId": "136ed1d1-287a-4f90-adc4-e4aedb5c6c3d"
      },
      "execution_count": 85,
      "outputs": [
        {
          "output_type": "stream",
          "name": "stdout",
          "text": [
            "0-. Season\n",
            "\t['spring', 'fall', 'winter', 'summer']\n",
            "1-. Age\n",
            "\t[30, 35, 27, 32, 36, 29, 33, 28, 31, 34]\n",
            "2-. Childish diseases\n",
            "\t['no', 'yes']\n",
            "3-. Accident or serious trauma\n",
            "\t['yes', 'no']\n",
            "4-. Surgical intervention\n",
            "\t['yes', 'no']\n",
            "5-. High fevers in the last year\n",
            "\t['more than 3 months ago', 'less than 3 months ago', 'no']\n",
            "6-. Frequency of alcohol consumption\n",
            "\t['once a week', 'hardly ever or never', 'several times a week', 'several times a day', 'every day']\n",
            "7-. Smoking habit\n",
            "\t['occasional', 'daily', 'never']\n",
            "8-. Number of hours spent sitting per day\n",
            "\t[16, 6, 9, 7, 8, 5, 2, 11, 3, 342, 14, 18, 10, 1]\n",
            "9-. Diagnosis\n",
            "\t['Normal', 'Altered']\n"
          ]
        }
      ]
    },
    {
      "cell_type": "code",
      "source": [
        "# Identificamos columnas categóricas\n",
        "categorical_cols = df.select_dtypes(include='object').columns"
      ],
      "metadata": {
        "id": "4Y66zy6HiZB1"
      },
      "execution_count": 86,
      "outputs": []
    },
    {
      "cell_type": "code",
      "source": [
        "# Aplicamos Label Encoding\n",
        "label_encoders = {}\n",
        "for col in categorical_cols:\n",
        "    le = LabelEncoder()\n",
        "    df[col] = le.fit_transform(df[col])\n",
        "    label_encoders[col] = le"
      ],
      "metadata": {
        "id": "rgV-T886jCWJ"
      },
      "execution_count": 87,
      "outputs": []
    },
    {
      "cell_type": "code",
      "source": [
        "for col, le in label_encoders.items():\n",
        "    print(f\"{col}:\")\n",
        "    for i, class_ in enumerate(le.classes_):\n",
        "        print(f\"  {i} → {class_}\")"
      ],
      "metadata": {
        "colab": {
          "base_uri": "https://localhost:8080/"
        },
        "collapsed": true,
        "id": "27hLx4YTjGOE",
        "outputId": "9d1e3dd2-ba40-4a41-951f-fbe00c106c8a"
      },
      "execution_count": 88,
      "outputs": [
        {
          "output_type": "stream",
          "name": "stdout",
          "text": [
            "Season:\n",
            "  0 → fall\n",
            "  1 → spring\n",
            "  2 → summer\n",
            "  3 → winter\n",
            "Childish diseases:\n",
            "  0 → no\n",
            "  1 → yes\n",
            "Accident or serious trauma:\n",
            "  0 → no\n",
            "  1 → yes\n",
            "Surgical intervention:\n",
            "  0 → no\n",
            "  1 → yes\n",
            "High fevers in the last year:\n",
            "  0 → less than 3 months ago\n",
            "  1 → more than 3 months ago\n",
            "  2 → no\n",
            "Frequency of alcohol consumption:\n",
            "  0 → every day\n",
            "  1 → hardly ever or never\n",
            "  2 → once a week\n",
            "  3 → several times a day\n",
            "  4 → several times a week\n",
            "Smoking habit:\n",
            "  0 → daily\n",
            "  1 → never\n",
            "  2 → occasional\n",
            "Diagnosis:\n",
            "  0 → Altered\n",
            "  1 → Normal\n"
          ]
        }
      ]
    },
    {
      "cell_type": "code",
      "source": [
        "lista_nombres_columnas = df.columns.tolist()\n",
        "for c in range(len(lista_nombres_columnas)):\n",
        "    nombre = lista_nombres_columnas[c]\n",
        "    print(f'{c}-. {nombre}')\n",
        "    valores = df[nombre].unique().tolist()\n",
        "    print(f'\\t{valores}')"
      ],
      "metadata": {
        "colab": {
          "base_uri": "https://localhost:8080/"
        },
        "collapsed": true,
        "id": "9IWJQrEQgQeq",
        "outputId": "d051f27e-1e57-4a5d-c498-58c3a3f5b8a6"
      },
      "execution_count": 89,
      "outputs": [
        {
          "output_type": "stream",
          "name": "stdout",
          "text": [
            "0-. Season\n",
            "\t[1, 0, 3, 2]\n",
            "1-. Age\n",
            "\t[30, 35, 27, 32, 36, 29, 33, 28, 31, 34]\n",
            "2-. Childish diseases\n",
            "\t[0, 1]\n",
            "3-. Accident or serious trauma\n",
            "\t[1, 0]\n",
            "4-. Surgical intervention\n",
            "\t[1, 0]\n",
            "5-. High fevers in the last year\n",
            "\t[1, 0, 2]\n",
            "6-. Frequency of alcohol consumption\n",
            "\t[2, 1, 4, 3, 0]\n",
            "7-. Smoking habit\n",
            "\t[2, 0, 1]\n",
            "8-. Number of hours spent sitting per day\n",
            "\t[16, 6, 9, 7, 8, 5, 2, 11, 3, 342, 14, 18, 10, 1]\n",
            "9-. Diagnosis\n",
            "\t[1, 0]\n"
          ]
        }
      ]
    },
    {
      "cell_type": "markdown",
      "source": [
        "Ya transformadas las columnas de nuestro Dataframe, hacemos una pequeña trata que consiste en duplicar y mezclar los datos."
      ],
      "metadata": {
        "id": "Dl-rY0dvFBOc"
      }
    },
    {
      "cell_type": "code",
      "metadata": {
        "id": "2c9e9ec9"
      },
      "source": [
        "df = pd.concat([df, df], ignore_index=True)\n",
        "#print(\"Original DataFrame shape:\", df.shape)\n",
        "#print(\"Duplicated DataFrame shape:\", df_duplicated.shape)\n",
        "df = shuffle(df, random_state=42)"
      ],
      "execution_count": 90,
      "outputs": []
    },
    {
      "cell_type": "code",
      "source": [
        "sns.countplot(x='Diagnosis', data=df)\n",
        "plt.title('Distribución de la Diagnosis')\n",
        "plt.show()\n",
        "df['Diagnosis'].value_counts()"
      ],
      "metadata": {
        "colab": {
          "base_uri": "https://localhost:8080/",
          "height": 633
        },
        "collapsed": true,
        "id": "8qi5A95ttBzh",
        "outputId": "78d540bb-61fd-40d7-8ead-3bba307a2bdf"
      },
      "execution_count": 91,
      "outputs": [
        {
          "output_type": "display_data",
          "data": {
            "text/plain": [
              "<Figure size 640x480 with 1 Axes>"
            ],
            "image/png": "[encoded data removed]"
          },
          "metadata": {}
        },
        {
          "output_type": "execute_result",
          "data": {
            "text/plain": [
              "Diagnosis\n",
              "1    176\n",
              "0     24\n",
              "Name: count, dtype: int64"
            ],
            "text/html": [
              "<div>\n",
              "<style scoped>\n",
              "    .dataframe tbody tr th:only-of-type {\n",
              "        vertical-align: middle;\n",
              "    }\n",
              "\n",
              "    .dataframe tbody tr th {\n",
              "        vertical-align: top;\n",
              "    }\n",
              "\n",
              "    .dataframe thead th {\n",
              "        text-align: right;\n",
              "    }\n",
              "</style>\n",
              "<table border=\"1\" class=\"dataframe\">\n",
              "  <thead>\n",
              "    <tr style=\"text-align: right;\">\n",
              "      <th></th>\n",
              "      <th>count</th>\n",
              "    </tr>\n",
              "    <tr>\n",
              "      <th>Diagnosis</th>\n",
              "      <th></th>\n",
              "    </tr>\n",
              "  </thead>\n",
              "  <tbody>\n",
              "    <tr>\n",
              "      <th>1</th>\n",
              "      <td>176</td>\n",
              "    </tr>\n",
              "    <tr>\n",
              "      <th>0</th>\n",
              "      <td>24</td>\n",
              "    </tr>\n",
              "  </tbody>\n",
              "</table>\n",
              "</div><br><label><b>dtype:</b> int64</label>"
            ]
          },
          "metadata": {},
          "execution_count": 91
        }
      ]
    },
    {
      "cell_type": "markdown",
      "source": [
        "# **Funciones personalizadas**\n",
        "\n",
        "En este punto definimos unas funciones que repetí un par de veces a la hora de aplicar los modelos, estás en parte son un \"Refrito\" (coloquialmente hablando) de tareas anteriores."
      ],
      "metadata": {
        "id": "Fu-A8E6SFr7Q"
      }
    },
    {
      "cell_type": "code",
      "source": [
        "def resultados(y, yp):\n",
        "    mae_rf = mean_absolute_error(y, yp)\n",
        "    mse_rf = mean_squared_error(y, yp)\n",
        "    r2_rf = r2_score(y, yp)\n",
        "    # Resultados\n",
        "    print(f'MAE - Mejor Random Forest: {mae_rf}')\n",
        "    print(f'MSE - Mejor Random Forest: {mse_rf}')\n",
        "    print(f'R² - Mejor Random Forest: {r2_rf}')"
      ],
      "metadata": {
        "id": "br5CGxDeRqaO"
      },
      "execution_count": 92,
      "outputs": []
    },
    {
      "cell_type": "code",
      "source": [
        "def RandomF(X_train, y_train):\n",
        "    # Definir los hiperparámetros a probar\n",
        "    param_dist = {\n",
        "        'n_estimators': [50, 100, 200],\n",
        "        'criterion': ['squared_error', 'absolute_error', 'friedman_mse', 'poisson'],\n",
        "        'max_depth': [None, 10, 20, 30],\n",
        "        'min_samples_split': [2, 5, 10],\n",
        "        'min_samples_leaf': [1, 2, 4],\n",
        "        'max_features': ['sqrt', 'log2'],\n",
        "    }\n",
        "\n",
        "    # Crear el modelo de Random Forest\n",
        "    rf = RandomForestRegressor(random_state=42)\n",
        "\n",
        "    # Búsqueda aleatoria\n",
        "    random_search = RandomizedSearchCV(\n",
        "        estimator=rf,\n",
        "        param_distributions=param_dist,\n",
        "        n_iter=10,\n",
        "        cv=5,\n",
        "        n_jobs=-1,\n",
        "        scoring='neg_mean_absolute_error',\n",
        "        verbose=2,\n",
        "        random_state=42\n",
        "    )\n",
        "\n",
        "    rs = random_search.fit(X_train, y_train)\n",
        "    return rs\n",
        "\n",
        "def RandomS(X_train, y_train):\n",
        "    param_dist = {\n",
        "        'kernel': ['linear', 'poly', 'rbf', 'sigmoid'],\n",
        "        'C': [0.1, 1, 10, 100],\n",
        "        'gamma': ['scale', 'auto', 0.1, 1],\n",
        "        'epsilon': [0.01, 0.1, 1],\n",
        "        'max_iter': [50, 100, 500]\n",
        "    }\n",
        "\n",
        "    svr = SVR()\n",
        "\n",
        "    random_search = RandomizedSearchCV(\n",
        "        estimator=svr,\n",
        "        param_distributions=param_dist,\n",
        "        n_iter=10,\n",
        "        cv=5,\n",
        "        n_jobs=-1,\n",
        "        scoring='neg_mean_absolute_error',\n",
        "        verbose=2,\n",
        "        random_state=42\n",
        "    )\n",
        "\n",
        "    rs = random_search.fit(X_train, y_train)\n",
        "    return rs\n",
        "\n",
        "def RandomK(X_train, y_train):\n",
        "    param_dist = {\n",
        "        'n_neighbors': range(1, 11),\n",
        "        'metric': ['euclidean', 'manhattan', 'minkowski'],\n",
        "        'weights': ['uniform', 'distance'],\n",
        "        'n_jobs': [-1]\n",
        "    }\n",
        "\n",
        "    # Crear el modelo de Support Vector Machine\n",
        "    knn = KNeighborsRegressor()\n",
        "\n",
        "    # Búsqueda aleatoria\n",
        "    random_search = RandomizedSearchCV(\n",
        "        estimator=knn,\n",
        "        param_distributions=param_dist,\n",
        "        n_iter=10,\n",
        "        cv=5,\n",
        "        n_jobs=-1,\n",
        "        scoring='neg_mean_absolute_error',\n",
        "        verbose=2,\n",
        "        random_state=42\n",
        "    )\n",
        "\n",
        "    rs = random_search.fit(X_train, y_train)\n",
        "    return rs"
      ],
      "metadata": {
        "id": "zNZ6lQn_VXQh"
      },
      "execution_count": 93,
      "outputs": []
    },
    {
      "cell_type": "markdown",
      "source": [
        "# **Aplicación de Modelos de Regresión**\n",
        "\n",
        "En mi caso, ejecute varias veces el codigo donde obtuve resultados distintos resultantes de las distintas busquedas del RandomSearch, con esto en cuenta defini los X e Y y los a través de Smote como PCA para luego aplicar los modelos de regresión."
      ],
      "metadata": {
        "id": "uul_bxLDGMco"
      }
    },
    {
      "cell_type": "code",
      "source": [
        "X = df.drop(columns = 'Diagnosis')\n",
        "y = df['Diagnosis']"
      ],
      "metadata": {
        "id": "zbUGVsXptTha"
      },
      "execution_count": 94,
      "outputs": []
    },
    {
      "cell_type": "code",
      "source": [
        "# Aplicamos el escalado\n",
        "scaler = StandardScaler()\n",
        "X_scaled = pd.DataFrame(scaler.fit_transform(X), columns=X.columns)\n",
        "\n",
        "# Dividir en conjunto de entrenamiento (80%) y prueba (20%), asegurando que todas las clases estén presentes en ambos conjuntos\n",
        "X_train, X_test, y_train, y_test = train_test_split(X_scaled, y, test_size=0.2, random_state=123, stratify=y)"
      ],
      "metadata": {
        "id": "NxBnxoq0tYcR"
      },
      "execution_count": 95,
      "outputs": []
    },
    {
      "cell_type": "code",
      "source": [
        "smote = SMOTE(sampling_strategy='not majority', random_state=42, k_neighbors=3)\n",
        "X_smote, y_smote = smote.fit_resample(X_train, y_train)"
      ],
      "metadata": {
        "id": "tohWZ3q-tZZ0"
      },
      "execution_count": 96,
      "outputs": []
    },
    {
      "cell_type": "code",
      "source": [
        "# Aplicamos PCA sin limitar componentes (usa todos)\n",
        "pca = PCA()\n",
        "pca.fit(X_scaled)\n",
        "\n",
        "# Varianza explicada por cada componente\n",
        "explained_variance = pca.explained_variance_ratio_\n",
        "\n",
        "# Varianza acumulada\n",
        "cumulative_variance = np.cumsum(explained_variance)\n",
        "\n",
        "# Grafico Varianza\n",
        "plt.figure(figsize=(8, 5))\n",
        "plt.plot(range(1, len(explained_variance)+1), explained_variance, marker='o')\n",
        "plt.xlabel('Número de componentes')\n",
        "plt.ylabel('Varianza')\n",
        "plt.title('¿Cuántos componentes elegir en PCA?')\n",
        "plt.grid(True)\n",
        "plt.show()\n",
        "\n",
        "# Gráfico Varianza Acumulada\n",
        "plt.figure(figsize=(8, 5))\n",
        "plt.plot(range(1, len(cumulative_variance)+1), cumulative_variance, marker='o')\n",
        "plt.xlabel('Número de componentes')\n",
        "plt.ylabel('Varianza acumulada')\n",
        "plt.title('¿Cuántos componentes elegir en PCA?')\n",
        "plt.grid(True)\n",
        "plt.show()"
      ],
      "metadata": {
        "colab": {
          "base_uri": "https://localhost:8080/",
          "height": 959
        },
        "collapsed": true,
        "id": "mcPRF7nW3It3",
        "outputId": "bb72feab-3042-4c09-9025-f5df08c9b72a"
      },
      "execution_count": 97,
      "outputs": [
        {
          "output_type": "display_data",
          "data": {
            "text/plain": [
              "<Figure size 800x500 with 1 Axes>"
            ],
            "image/png": "[encoded data removed]"
          },
          "metadata": {}
        },
        {
          "output_type": "display_data",
          "data": {
            "text/plain": [
              "<Figure size 800x500 with 1 Axes>"
            ],
            "image/png": "[encoded data removed]"
          },
          "metadata": {}
        }
      ]
    },
    {
      "cell_type": "code",
      "source": [
        "# debe ser entre 6 y 8\n",
        "pca = PCA(n_components=7)\n",
        "X_pca = pca.fit_transform(X_scaled)\n",
        "\n",
        "X_train_pca, X_test_pca, y_train_pca, y_test_pca = train_test_split(X_pca, y, test_size=0.2, random_state=123, stratify=y)"
      ],
      "metadata": {
        "id": "JURcuQfn3jrH"
      },
      "execution_count": 98,
      "outputs": []
    },
    {
      "cell_type": "code",
      "source": [
        "#Esto lo ocupe temporalmente\n",
        "import copy"
      ],
      "metadata": {
        "id": "nUNIZPgKXBZ6"
      },
      "execution_count": 99,
      "outputs": []
    },
    {
      "cell_type": "markdown",
      "source": [
        "# **Random Forest**\n",
        "\n",
        "A lo largo de las ejecuciones que realice, Random Forest fue quien mejor me dio resultados para Smote como PCA. Veamos su aplicación."
      ],
      "metadata": {
        "id": "3Vr0HR9bG7hI"
      }
    },
    {
      "cell_type": "code",
      "source": [
        "rs_smote = RandomF(X_smote, y_smote)\n",
        "rs_pca = RandomF(X_train_pca, y_train_pca)\n",
        "\n",
        "# Mejor modelo encontrado\n",
        "best_rf_smote = rs_smote.best_estimator_\n",
        "best_rf_pca = rs_pca.best_estimator_"
      ],
      "metadata": {
        "colab": {
          "base_uri": "https://localhost:8080/"
        },
        "id": "II3KTtpBPOOC",
        "outputId": "a5107048-f0d1-435f-d285-3dd635d90097"
      },
      "execution_count": 100,
      "outputs": [
        {
          "output_type": "stream",
          "name": "stdout",
          "text": [
            "Fitting 5 folds for each of 10 candidates, totalling 50 fits\n",
            "Fitting 5 folds for each of 10 candidates, totalling 50 fits\n"
          ]
        }
      ]
    },
    {
      "cell_type": "code",
      "source": [
        "# Predecir con el mejor modelo Random forest\n",
        "y_pred_rf = best_rf_smote.predict(X_test)\n",
        "resultados(y_test, y_pred_rf)\n",
        "print()\n",
        "y_pred_rf = best_rf_pca.predict(X_test_pca)\n",
        "resultados(y_test, y_pred_rf)"
      ],
      "metadata": {
        "colab": {
          "base_uri": "https://localhost:8080/"
        },
        "id": "Ck_Oww8LYE0J",
        "outputId": "32822e06-5e07-43c2-ac74-572ac9c6b442"
      },
      "execution_count": 101,
      "outputs": [
        {
          "output_type": "stream",
          "name": "stdout",
          "text": [
            "MAE - Mejor Random Forest: 0.12030839646464646\n",
            "MSE - Mejor Random Forest: 0.04107555075905611\n",
            "R² - Mejor Random Forest: 0.6244521073457727\n",
            "\n",
            "MAE - Mejor Random Forest: 0.11056249999999998\n",
            "MSE - Mejor Random Forest: 0.06096078125\n",
            "R² - Mejor Random Forest: 0.4426442857142857\n"
          ]
        }
      ]
    },
    {
      "cell_type": "markdown",
      "source": [
        "# **SVR**\n",
        "\n",
        "Si bien en esta ultima ejecución me dieron buenos resultados con Smote, de normal los resultados de SVR a lo largo de las ejecuciones me daba peores resultados que Random Forest, siendo los más bajos."
      ],
      "metadata": {
        "id": "nfeNBt9NHOki"
      }
    },
    {
      "cell_type": "code",
      "source": [
        "rs_pca = RandomS(X_train_pca, y_train_pca)\n",
        "rs_smote = RandomS(X_smote, y_smote)\n",
        "\n",
        "# Mejor modelo encontrado\n",
        "best_svr_smote = rs_smote.best_estimator_\n",
        "best_svr_pca = rs_pca.best_estimator_"
      ],
      "metadata": {
        "colab": {
          "base_uri": "https://localhost:8080/"
        },
        "id": "QftbSSgDtwWG",
        "outputId": "4d3e7eff-de4e-4cf5-9ad2-2257ff07aac1"
      },
      "execution_count": 102,
      "outputs": [
        {
          "output_type": "stream",
          "name": "stdout",
          "text": [
            "Fitting 5 folds for each of 10 candidates, totalling 50 fits\n",
            "Fitting 5 folds for each of 10 candidates, totalling 50 fits\n"
          ]
        }
      ]
    },
    {
      "cell_type": "code",
      "source": [
        "# Predecir con el mejor modelo\n",
        "y_pred_svr = best_svr_smote.predict(X_test)\n",
        "resultados(y_test, y_pred_svr)  # Suponiendo que tienes las funciones de evaluación\n",
        "print()\n",
        "y_pred_svr = best_svr_pca.predict(X_test_pca)\n",
        "resultados(y_test, y_pred_svr)"
      ],
      "metadata": {
        "colab": {
          "base_uri": "https://localhost:8080/"
        },
        "id": "mLS9gkqZty8T",
        "outputId": "99ffff7c-c1d8-4569-ef4e-457bc24db3fa"
      },
      "execution_count": 103,
      "outputs": [
        {
          "output_type": "stream",
          "name": "stdout",
          "text": [
            "MAE - Mejor Random Forest: 0.1331881145689613\n",
            "MSE - Mejor Random Forest: 0.02104555184441968\n",
            "R² - Mejor Random Forest: 0.8075835259938772\n",
            "\n",
            "MAE - Mejor Random Forest: 0.12852988743065524\n",
            "MSE - Mejor Random Forest: 0.11798714129208951\n",
            "R² - Mejor Random Forest: -0.07873957752767557\n"
          ]
        }
      ]
    },
    {
      "cell_type": "markdown",
      "source": [
        "# **KNN Regresor**\n",
        "\n",
        "Con respecto a Knn Regresor sufrí distintos problemas al ejecutarlo, pero estos se deben pricipalmente a Google Collab, de igual forma no da malos resultados, pero son ciertamente inseguros."
      ],
      "metadata": {
        "id": "UKzI-WC2Htou"
      }
    },
    {
      "cell_type": "code",
      "source": [
        "from sklearn.neighbors import KNeighborsRegressor\n",
        "from sklearn.model_selection import cross_val_score\n",
        "\n",
        "k_range = range(1, 11)\n",
        "mean_scores_smote = []\n",
        "mean_scores_pca = []\n",
        "\n",
        "for k in k_range:\n",
        "    knn_regressor1 = KNeighborsRegressor(n_neighbors=k)\n",
        "    knn_regressor2 = KNeighborsRegressor(n_neighbors=k)\n",
        "    scores_smote = cross_val_score(knn_regressor1, X_smote, y_smote, cv=5, scoring='r2')\n",
        "    scores_pca = cross_val_score(knn_regressor2, X_train_pca, y_train_pca, cv=5, scoring='r2')\n",
        "    mean_scores_smote.append(np.mean(scores_smote))\n",
        "    mean_scores_pca.append(np.mean(scores_pca))\n",
        "\n",
        "# Encontrar el mejor K\n",
        "best_k_smote = k_range[np.argmax(mean_scores_smote)]\n",
        "best_k_pca = k_range[np.argmax(mean_scores_pca)]\n",
        "print(f'El mejor número de vecinos (K) es: {best_k_smote}. Con un puntaje de {mean_scores_smote[0]:.4f}')\n",
        "print(f'El mejor número de vecinos (K) es: {best_k_pca}. Con un puntaje de {mean_scores_pca[0]:.4f}')"
      ],
      "metadata": {
        "colab": {
          "base_uri": "https://localhost:8080/"
        },
        "id": "5T0fO2Qct1w2",
        "outputId": "399f47cd-ff23-4f5f-c53c-7dc4d9de039b"
      },
      "execution_count": 104,
      "outputs": [
        {
          "output_type": "stream",
          "name": "stdout",
          "text": [
            "El mejor número de vecinos (K) es: 1. Con un puntaje de 0.1258\n",
            "El mejor número de vecinos (K) es: 4. Con un puntaje de 0.1356\n"
          ]
        }
      ]
    },
    {
      "cell_type": "code",
      "source": [
        "#Esta linea es innecesaria, es netamente para visualización y demostración\n",
        "plt.figure(figsize=(10, 6))\n",
        "plt.plot(k_range, mean_scores_smote, marker='o')\n",
        "plt.title('Validación Cruzada: SMOTE r2 vs Número de Vecinos (K)')\n",
        "plt.xlabel('Número de Vecinos (K)')\n",
        "plt.ylabel('Coeficiente de determinación (r2)')\n",
        "plt.xticks(k_range)\n",
        "plt.grid()\n",
        "plt.show()\n",
        "\n",
        "plt.figure(figsize=(10, 6))\n",
        "plt.plot(k_range, mean_scores_pca, marker='o')\n",
        "plt.title('Validación Cruzada: PCA r2 vs Número de Vecinos (K)')\n",
        "plt.xlabel('Número de Vecinos (K)')\n",
        "plt.ylabel('Coeficiente de determinación (r2)')\n",
        "plt.xticks(k_range)\n",
        "plt.grid()\n",
        "plt.show()"
      ],
      "metadata": {
        "colab": {
          "base_uri": "https://localhost:8080/",
          "height": 1000
        },
        "collapsed": true,
        "id": "gppAwjw4t39n",
        "outputId": "20c662d3-ccab-4952-ec4b-48b34953354d"
      },
      "execution_count": 105,
      "outputs": [
        {
          "output_type": "display_data",
          "data": {
            "text/plain": [
              "<Figure size 1000x600 with 1 Axes>"
            ],
            "image/png": "[encoded data removed]"
          },
          "metadata": {}
        },
        {
          "output_type": "display_data",
          "data": {
            "text/plain": [
              "<Figure size 1000x600 with 1 Axes>"
            ],
            "image/png": "[encoded data removed]"
          },
          "metadata": {}
        }
      ]
    },
    {
      "cell_type": "code",
      "source": [
        "final_knn_smote = KNeighborsRegressor(n_neighbors=best_k_smote)\n",
        "knn_smote = final_knn_smote.fit(X_smote, y_smote)\n",
        "\n",
        "scores = -cross_val_score(final_knn_smote, X_smote, y_smote, cv=5, scoring='neg_mean_squared_error')\n",
        "scores = scores.mean()\n",
        "print(\"Smote Score con Cross-Val: Mse =\", scores)\n",
        "scores = cross_val_score(final_knn_smote, X_smote, y_smote, cv=5, scoring='r2')\n",
        "scores = scores.mean()\n",
        "print(\"Smote Score con Cross-Val: r2 =\", scores)\n",
        "y_pred = knn_smote.predict(X_test)\n",
        "knn_MSE_smote = mean_squared_error(y_test, y_pred)\n",
        "knn_r2_smote = r2_score(y_test, y_pred)\n",
        "\n",
        "print(f'Resultados sin Cross-Val:\\n\\n'\n",
        "     f'\\tSmote MSE: {knn_MSE_smote:.4f}\\n'\n",
        "     f'\\tSmote r2 : {knn_r2_smote:.4f}')"
      ],
      "metadata": {
        "colab": {
          "base_uri": "https://localhost:8080/"
        },
        "id": "VqwCeKbkt6V2",
        "outputId": "0f74752a-6455-4ef2-e848-f8f4e109dbfa"
      },
      "execution_count": 106,
      "outputs": [
        {
          "output_type": "stream",
          "name": "stdout",
          "text": [
            "Smote Score con Cross-Val: Mse = 0.081265664160401\n",
            "Smote Score con Cross-Val: r2 = 0.12578861788617876\n",
            "Resultados sin Cross-Val:\n",
            "\n",
            "\tSmote MSE: 0.0000\n",
            "\tSmote r2 : 1.0000\n"
          ]
        }
      ]
    },
    {
      "cell_type": "code",
      "source": [
        "final_knn_pca = KNeighborsRegressor(n_neighbors=best_k_pca)\n",
        "knn_pca = final_knn_pca.fit(X_train_pca, y_train_pca)\n",
        "\n",
        "scores = -cross_val_score(final_knn_pca, X_train_pca, y_train_pca, cv=5, scoring='neg_mean_squared_error')\n",
        "scores = scores.mean()\n",
        "print(\"PCA Score con Cross-Val: Mse =\", scores.mean())\n",
        "scores = cross_val_score(final_knn_smote, X_train_pca, y_train_pca, cv=5, scoring='r2')\n",
        "scores = scores.mean()\n",
        "print(\"PCA Score con Cross-Val: r2 =\", scores)\n",
        "y_pred = knn_pca.predict(X_test_pca)\n",
        "knn_MSE_pca = mean_squared_error(y_test_pca, y_pred)\n",
        "knn_r2_pca = r2_score(y_test_pca, y_pred)\n",
        "\n",
        "print(f'Resultados sin Cross-Val:\\n\\n'\n",
        "     f'\\tPCA MSE: {knn_MSE_pca:.4f}\\n'\n",
        "     f'\\tPCA r2 : {knn_r2_pca:.4f}')"
      ],
      "metadata": {
        "colab": {
          "base_uri": "https://localhost:8080/"
        },
        "id": "zJb-AH_J12Ta",
        "outputId": "be692095-587c-40a4-c3d4-9fd2638fef23"
      },
      "execution_count": 107,
      "outputs": [
        {
          "output_type": "stream",
          "name": "stdout",
          "text": [
            "PCA Score con Cross-Val: Mse = 0.083203125\n",
            "PCA Score con Cross-Val: r2 = 0.13558839627805147\n",
            "Resultados sin Cross-Val:\n",
            "\n",
            "\tPCA MSE: 0.0688\n",
            "\tPCA r2 : 0.3714\n"
          ]
        }
      ]
    },
    {
      "cell_type": "code",
      "source": [
        "rs_smote = RandomK(X_smote, y_smote)\n",
        "best_knn_smote = rs_smote.best_estimator_\n",
        "\n",
        "# Predecir con el mejor modelo\n",
        "y_pred_knn = best_knn_smote.predict(X_test)\n",
        "resultados(y_test, y_pred_knn)"
      ],
      "metadata": {
        "colab": {
          "base_uri": "https://localhost:8080/"
        },
        "id": "O2mqnqbluAmB",
        "outputId": "f246cbdb-e4b2-4df1-9e3f-2da9877dd560"
      },
      "execution_count": 108,
      "outputs": [
        {
          "output_type": "stream",
          "name": "stdout",
          "text": [
            "Fitting 5 folds for each of 10 candidates, totalling 50 fits\n",
            "MAE - Mejor Random Forest: 0.008236868495605532\n",
            "MSE - Mejor Random Forest: 0.0013569200522779786\n",
            "R² - Mejor Random Forest: 0.9875938738077442\n"
          ]
        }
      ]
    },
    {
      "cell_type": "code",
      "source": [
        "rs_pca = RandomK(X_train_pca, y_train_pca)\n",
        "best_knn_pca = rs_pca.best_estimator_\n",
        "\n",
        "y_pred_knn = best_knn_pca.predict(X_test_pca)\n",
        "resultados(y_test, y_pred_knn)"
      ],
      "metadata": {
        "colab": {
          "base_uri": "https://localhost:8080/"
        },
        "id": "Mx3gX-Jy5pzI",
        "outputId": "22a14a0a-c6bf-42aa-d8b6-4d1889e23e24"
      },
      "execution_count": 109,
      "outputs": [
        {
          "output_type": "stream",
          "name": "stdout",
          "text": [
            "Fitting 5 folds for each of 10 candidates, totalling 50 fits\n",
            "MAE - Mejor Random Forest: 0.01577481089588443\n",
            "MSE - Mejor Random Forest: 0.002757605356743754\n",
            "R² - Mejor Random Forest: 0.9747876081669142\n"
          ]
        }
      ]
    },
    {
      "cell_type": "markdown",
      "source": [
        "# **Conclusiones**\n",
        "\n",
        "En Resumen puedo decir que vayan refrescando Google collab para ahorrarse  quebraderos de cabeza. Por otra parte en este caso me es dificil decir con certeza que pueda predecirse de manera tan sencilla esste Dataset con regresión lineal, parece ser que RandomSearch es bastante inconsistente y debe ser mejor evaluar exaustivamente todos los hiperparametros para realmente poder predecir los valores de este caso."
      ],
      "metadata": {
        "id": "bNe3dxWuIV9b"
      }
    }
  ]
}